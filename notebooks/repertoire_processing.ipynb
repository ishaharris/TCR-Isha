{
 "cells": [
  {
   "cell_type": "code",
   "execution_count": 34,
   "metadata": {},
   "outputs": [],
   "source": [
    "import os\n",
    "import re\n",
    "import pandas as pd\n",
    "import numpy as np\n",
    "import matplotlib.pyplot as plt"
   ]
  },
  {
   "cell_type": "code",
   "execution_count": 35,
   "metadata": {},
   "outputs": [
    {
     "data": {
      "text/plain": [
       "<bound method NDFrame.head of     sample_name  total_rearrangements  productive_rearrangements  \\\n",
       "0        P00640                 89702                      72532   \n",
       "1        P00633                284760                     229728   \n",
       "2        P00601                189096                     155624   \n",
       "3        P00506                 39180                      31931   \n",
       "4        P00492                332924                     279856   \n",
       "..          ...                   ...                        ...   \n",
       "660      P00005                128274                     105597   \n",
       "661      P00237                115853                      95837   \n",
       "662      P00133                151582                     127105   \n",
       "663      P00444                 95622                      79690   \n",
       "664      P00289                 82691                      69681   \n",
       "\n",
       "     productive_clonality                                        sample_tags  \n",
       "0                  0.2714  Cohort 01, HLA-A*01, HLA-A*68, HLA-B*14, HLA-B...  \n",
       "1                  0.0495  Cohort 01, HLA-A*02, HLA-A*11, HLA-B*35, Infer...  \n",
       "2                  0.0701  Cohort 01, HLA-A*01, HLA-A*03, HLA-B*08, HLA-B...  \n",
       "3                  0.2000  Cohort 01, HLA MHC Class I, HLA-A*02, HLA-A*03...  \n",
       "4                  0.1519  18-24 Years (Early Adulthood), 18-35 Years, 20...  \n",
       "..                    ...                                                ...  \n",
       "660                0.0944  18-35 Years, 24-45 Years (Middle Adulthood), 2...  \n",
       "661                0.1633  45-65 Years (Late Adulthood), 60+ Years, 60-64...  \n",
       "662                0.0877  35-60 Years, 45-49 Years, 45-65 Years (Late Ad...  \n",
       "663                0.1223  Cohort 01, Cytomegalovirus -, HLA-A*11, HLA-A*...  \n",
       "664                0.0798  24-45 Years (Middle Adulthood), 35-39 Years, 3...  \n",
       "\n",
       "[665 rows x 5 columns]>"
      ]
     },
     "execution_count": 35,
     "metadata": {},
     "output_type": "execute_result"
    }
   ],
   "source": [
    "# Load the metadata\n",
    "metadata = pd.read_csv(\"/Users/ishaharris/Projects/TCR/TCR-Isha/Data/Repertoires/Cohort01_whole_metadata.tsv\", sep=\"\\t\") \n",
    "metadata.head"
   ]
  },
  {
   "cell_type": "code",
   "execution_count": 36,
   "metadata": {},
   "outputs": [],
   "source": [
    "# Set the HLA of choice\n",
    "hla = \"HLA-A*02\""
   ]
  },
  {
   "cell_type": "code",
   "execution_count": 38,
   "metadata": {},
   "outputs": [
    {
     "data": {
      "text/html": [
       "<div>\n",
       "<style scoped>\n",
       "    .dataframe tbody tr th:only-of-type {\n",
       "        vertical-align: middle;\n",
       "    }\n",
       "\n",
       "    .dataframe tbody tr th {\n",
       "        vertical-align: top;\n",
       "    }\n",
       "\n",
       "    .dataframe thead th {\n",
       "        text-align: right;\n",
       "    }\n",
       "</style>\n",
       "<table border=\"1\" class=\"dataframe\">\n",
       "  <thead>\n",
       "    <tr style=\"text-align: right;\">\n",
       "      <th></th>\n",
       "      <th>sample_name</th>\n",
       "      <th>total_rearrangements</th>\n",
       "      <th>productive_rearrangements</th>\n",
       "      <th>productive_clonality</th>\n",
       "      <th>sample_tags</th>\n",
       "    </tr>\n",
       "  </thead>\n",
       "  <tbody>\n",
       "    <tr>\n",
       "      <th>1</th>\n",
       "      <td>P00633</td>\n",
       "      <td>284760</td>\n",
       "      <td>229728</td>\n",
       "      <td>0.0495</td>\n",
       "      <td>Cohort 01, HLA-A*02, HLA-A*11, HLA-B*35, Infer...</td>\n",
       "    </tr>\n",
       "    <tr>\n",
       "      <th>3</th>\n",
       "      <td>P00506</td>\n",
       "      <td>39180</td>\n",
       "      <td>31931</td>\n",
       "      <td>0.2000</td>\n",
       "      <td>Cohort 01, HLA MHC Class I, HLA-A*02, HLA-A*03...</td>\n",
       "    </tr>\n",
       "    <tr>\n",
       "      <th>4</th>\n",
       "      <td>P00492</td>\n",
       "      <td>332924</td>\n",
       "      <td>279856</td>\n",
       "      <td>0.1519</td>\n",
       "      <td>18-24 Years (Early Adulthood), 18-35 Years, 20...</td>\n",
       "    </tr>\n",
       "    <tr>\n",
       "      <th>5</th>\n",
       "      <td>P00412</td>\n",
       "      <td>336010</td>\n",
       "      <td>270511</td>\n",
       "      <td>0.0732</td>\n",
       "      <td>35-60 Years, 45-65 Years (Late Adulthood), 55-...</td>\n",
       "    </tr>\n",
       "    <tr>\n",
       "      <th>7</th>\n",
       "      <td>P00416</td>\n",
       "      <td>260017</td>\n",
       "      <td>207472</td>\n",
       "      <td>0.0863</td>\n",
       "      <td>35-60 Years, 45-65 Years (Late Adulthood), 50 ...</td>\n",
       "    </tr>\n",
       "  </tbody>\n",
       "</table>\n",
       "</div>"
      ],
      "text/plain": [
       "  sample_name  total_rearrangements  productive_rearrangements  \\\n",
       "1      P00633                284760                     229728   \n",
       "3      P00506                 39180                      31931   \n",
       "4      P00492                332924                     279856   \n",
       "5      P00412                336010                     270511   \n",
       "7      P00416                260017                     207472   \n",
       "\n",
       "   productive_clonality                                        sample_tags  \n",
       "1                0.0495  Cohort 01, HLA-A*02, HLA-A*11, HLA-B*35, Infer...  \n",
       "3                0.2000  Cohort 01, HLA MHC Class I, HLA-A*02, HLA-A*03...  \n",
       "4                0.1519  18-24 Years (Early Adulthood), 18-35 Years, 20...  \n",
       "5                0.0732  35-60 Years, 45-65 Years (Late Adulthood), 55-...  \n",
       "7                0.0863  35-60 Years, 45-65 Years (Late Adulthood), 50 ...  "
      ]
     },
     "execution_count": 38,
     "metadata": {},
     "output_type": "execute_result"
    }
   ],
   "source": [
    "#Extract the sample_names that correspond to that HLA\n",
    "\n",
    "hla_annotation = metadata[metadata['sample_tags'].str.contains(hla, case=False, na=False, regex=False)]\n",
    "\n",
    "hla_annotation.head()"
   ]
  },
  {
   "cell_type": "code",
   "execution_count": null,
   "metadata": {},
   "outputs": [
    {
     "data": {
      "text/plain": [
       "['P00492.tsv',\n",
       " 'P00412.tsv',\n",
       " 'P00416.tsv',\n",
       " 'P00037.tsv',\n",
       " 'P00346.tsv',\n",
       " 'P00353.tsv',\n",
       " 'P00278.tsv',\n",
       " 'P00260.tsv',\n",
       " 'P00208.tsv',\n",
       " 'P00143.tsv',\n",
       " 'P00085.tsv',\n",
       " 'P00625.tsv',\n",
       " 'P00572.tsv',\n",
       " 'P00496.tsv',\n",
       " 'P00422.tsv',\n",
       " 'P00381.tsv',\n",
       " 'P00570.tsv',\n",
       " 'P00313.tsv',\n",
       " 'P00308.tsv',\n",
       " 'P00568.tsv',\n",
       " 'P00088.tsv',\n",
       " 'P00503.tsv',\n",
       " 'P00205.tsv',\n",
       " 'P00150.tsv',\n",
       " 'P00377.tsv',\n",
       " 'P00311.tsv',\n",
       " 'P00632.tsv',\n",
       " 'P00477.tsv',\n",
       " 'P00419.tsv',\n",
       " 'P00405.tsv',\n",
       " 'P00367.tsv',\n",
       " 'P00360.tsv',\n",
       " 'P00216.tsv',\n",
       " 'P00148.tsv',\n",
       " 'P00086.tsv',\n",
       " 'P00063.tsv',\n",
       " 'P00008.tsv',\n",
       " 'P00296.tsv',\n",
       " 'P00575.tsv',\n",
       " 'P00565.tsv',\n",
       " 'P00312.tsv',\n",
       " 'P00358.tsv',\n",
       " 'P00178.tsv',\n",
       " 'P00177.tsv',\n",
       " 'P00120.tsv',\n",
       " 'P00334.tsv',\n",
       " 'P00336.tsv',\n",
       " 'P00305.tsv',\n",
       " 'P00135.tsv',\n",
       " 'P00161.tsv',\n",
       " 'P00140.tsv',\n",
       " 'P00029.tsv',\n",
       " 'P00536.tsv',\n",
       " 'P00301.tsv',\n",
       " 'P00010.tsv',\n",
       " 'P00314.tsv',\n",
       " 'P00094.tsv',\n",
       " 'P00209.tsv',\n",
       " 'P00324.tsv',\n",
       " 'P00003.tsv',\n",
       " 'P00540.tsv',\n",
       " 'P00002.tsv',\n",
       " 'P00567.tsv',\n",
       " 'P00551.tsv',\n",
       " 'P00553.tsv',\n",
       " 'P00387.tsv',\n",
       " 'P00424.tsv',\n",
       " 'P00462.tsv',\n",
       " 'P00581.tsv',\n",
       " 'P00272.tsv',\n",
       " 'P00393.tsv',\n",
       " 'P00443.tsv',\n",
       " 'P00453.tsv',\n",
       " 'P00368.tsv',\n",
       " 'P00554.tsv',\n",
       " 'P00394.tsv',\n",
       " 'P00266.tsv',\n",
       " 'P00582.tsv',\n",
       " 'P00561.tsv',\n",
       " 'P00576.tsv',\n",
       " 'P00451.tsv',\n",
       " 'P00084.tsv',\n",
       " 'P00498.tsv',\n",
       " 'P00021.tsv',\n",
       " 'P00512.tsv',\n",
       " 'P00488.tsv',\n",
       " 'P00111.tsv',\n",
       " 'P00110.tsv',\n",
       " 'P00048.tsv',\n",
       " 'P00024.tsv',\n",
       " 'P00098.tsv',\n",
       " 'P00604.tsv',\n",
       " 'P00626.tsv',\n",
       " 'P00606.tsv',\n",
       " 'P00007.tsv',\n",
       " 'P00619.tsv',\n",
       " 'P00091.tsv',\n",
       " 'P00116.tsv',\n",
       " 'P00519.tsv',\n",
       " 'P00011.tsv',\n",
       " 'P00020.tsv',\n",
       " 'P00221.tsv',\n",
       " 'P00259.tsv',\n",
       " 'P00271.tsv',\n",
       " 'P00241.tsv',\n",
       " 'P00239.tsv',\n",
       " 'P00329.tsv',\n",
       " 'P00167.tsv',\n",
       " 'P00252.tsv',\n",
       " 'P00040.tsv',\n",
       " 'P00325.tsv',\n",
       " 'P00107.tsv',\n",
       " 'P00083.tsv',\n",
       " 'P00230.tsv',\n",
       " 'P00201.tsv',\n",
       " 'P00056.tsv',\n",
       " 'P00229.tsv',\n",
       " 'P00246.tsv',\n",
       " 'P00151.tsv',\n",
       " 'P00166.tsv',\n",
       " 'P00255.tsv',\n",
       " 'P00191.tsv',\n",
       " 'P00375.tsv',\n",
       " 'P00251.tsv',\n",
       " 'P00171.tsv',\n",
       " 'P00128.tsv',\n",
       " 'P00340.tsv',\n",
       " 'P00351.tsv',\n",
       " 'P00347.tsv',\n",
       " 'P00165.tsv',\n",
       " 'P00363.tsv',\n",
       " 'P00211.tsv',\n",
       " 'P00537.tsv',\n",
       " 'P00137.tsv',\n",
       " 'P00505.tsv',\n",
       " 'P00131.tsv',\n",
       " 'P00125.tsv',\n",
       " 'P00359.tsv',\n",
       " 'P00349.tsv',\n",
       " 'P00337.tsv',\n",
       " 'P00142.tsv',\n",
       " 'P00389.tsv',\n",
       " 'P00130.tsv',\n",
       " 'P00495.tsv',\n",
       " 'P00268.tsv',\n",
       " 'P00589.tsv',\n",
       " 'P00574.tsv',\n",
       " 'P00276.tsv',\n",
       " 'P00275.tsv',\n",
       " 'P00315.tsv',\n",
       " 'P00435.tsv',\n",
       " 'P00530.tsv',\n",
       " 'P00605.tsv',\n",
       " 'P00598.tsv',\n",
       " 'P00593.tsv',\n",
       " 'P00516.tsv',\n",
       " 'P00455.tsv',\n",
       " 'P00410.tsv',\n",
       " 'P00350.tsv',\n",
       " 'P00657.tsv',\n",
       " 'P00638.tsv',\n",
       " 'P00550.tsv',\n",
       " 'P00618.tsv',\n",
       " 'P00648.tsv',\n",
       " 'P00458.tsv',\n",
       " 'P00295.tsv',\n",
       " 'P00383.tsv',\n",
       " 'P00486.tsv',\n",
       " 'P00577.tsv',\n",
       " 'P00564.tsv',\n",
       " 'P00356.tsv',\n",
       " 'P00380.tsv',\n",
       " 'P00014.tsv',\n",
       " 'P00631.tsv',\n",
       " 'P00038.tsv',\n",
       " 'P00055.tsv',\n",
       " 'P00019.tsv',\n",
       " 'P00030.tsv',\n",
       " 'P00066.tsv',\n",
       " 'P00045.tsv',\n",
       " 'P00059.tsv',\n",
       " 'P00058.tsv',\n",
       " 'P00031.tsv',\n",
       " 'P00194.tsv',\n",
       " 'P00006.tsv',\n",
       " 'P00036.tsv',\n",
       " 'P00093.tsv',\n",
       " 'P00152.tsv',\n",
       " 'P00225.tsv',\n",
       " 'P00141.tsv',\n",
       " 'P00256.tsv',\n",
       " 'P00032.tsv',\n",
       " 'P00224.tsv',\n",
       " 'P00233.tsv',\n",
       " 'P00106.tsv',\n",
       " 'P00099.tsv',\n",
       " 'P00212.tsv',\n",
       " 'P00232.tsv',\n",
       " 'P00017.tsv',\n",
       " 'P00073.tsv',\n",
       " 'P00072.tsv',\n",
       " 'P00193.tsv',\n",
       " 'P00044.tsv',\n",
       " 'P00004.tsv',\n",
       " 'P00203.tsv',\n",
       " 'P00163.tsv',\n",
       " 'P00196.tsv',\n",
       " 'P00079.tsv',\n",
       " 'P00138.tsv',\n",
       " 'P00112.tsv',\n",
       " 'P00385.tsv',\n",
       " 'P00291.tsv',\n",
       " 'P00077.tsv',\n",
       " 'P00330.tsv',\n",
       " 'P00298.tsv',\n",
       " 'P00306.tsv',\n",
       " 'P00182.tsv',\n",
       " 'P00366.tsv',\n",
       " 'P00097.tsv',\n",
       " 'P00170.tsv',\n",
       " 'P00173.tsv',\n",
       " 'P00065.tsv',\n",
       " 'P00054.tsv',\n",
       " 'P00372.tsv',\n",
       " 'P00327.tsv',\n",
       " 'P00067.tsv',\n",
       " 'P00414.tsv',\n",
       " 'P00421.tsv',\n",
       " 'P00198.tsv',\n",
       " 'P00482.tsv',\n",
       " 'P00217.tsv',\n",
       " 'P00253.tsv',\n",
       " 'P00200.tsv',\n",
       " 'P00423.tsv',\n",
       " 'P00433.tsv',\n",
       " 'P00292.tsv',\n",
       " 'P00607.tsv',\n",
       " 'P00317.tsv',\n",
       " 'P00407.tsv',\n",
       " 'P00452.tsv',\n",
       " 'P00602.tsv',\n",
       " 'P00652.tsv',\n",
       " 'P00304.tsv',\n",
       " 'P00287.tsv',\n",
       " 'P00656.tsv',\n",
       " 'P00357.tsv',\n",
       " 'P00525.tsv',\n",
       " 'P00343.tsv',\n",
       " 'P00665.tsv',\n",
       " 'P00502.tsv',\n",
       " 'P00527.tsv',\n",
       " 'P00609.tsv',\n",
       " 'P00491.tsv',\n",
       " 'P00448.tsv',\n",
       " 'P00639.tsv',\n",
       " 'P00509.tsv',\n",
       " 'P00398.tsv',\n",
       " 'P00399.tsv',\n",
       " 'P00662.tsv',\n",
       " 'P00144.tsv',\n",
       " 'P00284.tsv',\n",
       " 'P00406.tsv',\n",
       " 'P00310.tsv',\n",
       " 'P00526.tsv',\n",
       " 'P00507.tsv',\n",
       " 'P00569.tsv',\n",
       " 'P00379.tsv',\n",
       " 'P00653.tsv',\n",
       " 'P00621.tsv',\n",
       " 'P00548.tsv',\n",
       " 'P00342.tsv',\n",
       " 'P00642.tsv',\n",
       " 'P00534.tsv',\n",
       " 'P00403.tsv',\n",
       " 'P00549.tsv',\n",
       " 'P00500.tsv',\n",
       " 'P00392.tsv',\n",
       " 'P00049.tsv',\n",
       " 'P00590.tsv',\n",
       " 'P00504.tsv',\n",
       " 'P00483.tsv',\n",
       " 'P00523.tsv',\n",
       " 'P00461.tsv',\n",
       " 'P00214.tsv',\n",
       " 'P00460.tsv',\n",
       " 'P00493.tsv',\n",
       " 'P00614.tsv',\n",
       " 'P00518.tsv',\n",
       " 'P00132.tsv',\n",
       " 'P00471.tsv',\n",
       " 'P00133.tsv',\n",
       " 'P00289.tsv']"
      ]
     },
     "execution_count": 42,
     "metadata": {},
     "output_type": "execute_result"
    }
   ],
   "source": [
    "# Further subset so only CMV annotated samples\n",
    "\n",
    "hla_cmv_annotation =hla_annotation[hla_annotation['sample_tags'].str.contains(r'\\bcytomegalovirus|CNV\\b', case=False, na=False, regex=True)]\n",
    "\n",
    "patient_id_list = hla_cmv_annotation['sample_name'].tolist()\n",
    "\n",
    "patient_id_list = [s + '.tsv' for s in patient_id_list]"
   ]
  },
  {
   "cell_type": "code",
   "execution_count": 43,
   "metadata": {},
   "outputs": [
    {
     "name": "stderr",
     "output_type": "stream",
     "text": [
      "Copying files:   0%|          | 1/292 [00:14<1:11:01, 14.64s/file]"
     ]
    },
    {
     "name": "stdout",
     "output_type": "stream",
     "text": [
      "added P00492.tsv (703685.9 KB) - Total: 703685.9 KB\n"
     ]
    },
    {
     "name": "stderr",
     "output_type": "stream",
     "text": [
      "Copying files:   1%|          | 2/292 [00:25<1:01:08, 12.65s/file]"
     ]
    },
    {
     "name": "stdout",
     "output_type": "stream",
     "text": [
      "added P00412.tsv (702946.5 KB) - Total: 1406632.4 KB\n"
     ]
    },
    {
     "name": "stderr",
     "output_type": "stream",
     "text": [
      "Copying files:   1%|          | 3/292 [00:34<51:59, 10.79s/file]  "
     ]
    },
    {
     "name": "stdout",
     "output_type": "stream",
     "text": [
      "added P00416.tsv (560991.4 KB) - Total: 1967623.7 KB\n"
     ]
    },
    {
     "name": "stderr",
     "output_type": "stream",
     "text": [
      "Copying files:   1%|▏         | 4/292 [00:51<1:03:55, 13.32s/file]"
     ]
    },
    {
     "name": "stdout",
     "output_type": "stream",
     "text": [
      "added P00037.tsv (709938.7 KB) - Total: 2677562.4 KB\n"
     ]
    },
    {
     "name": "stderr",
     "output_type": "stream",
     "text": [
      "Copying files:   2%|▏         | 5/292 [00:56<48:23, 10.12s/file]  "
     ]
    },
    {
     "name": "stdout",
     "output_type": "stream",
     "text": [
      "added P00346.tsv (263896.0 KB) - Total: 2941458.4 KB\n"
     ]
    },
    {
     "name": "stderr",
     "output_type": "stream",
     "text": [
      "Copying files:   2%|▏         | 6/292 [01:03<43:52,  9.20s/file]"
     ]
    },
    {
     "name": "stdout",
     "output_type": "stream",
     "text": [
      "added P00353.tsv (391724.2 KB) - Total: 3333182.6 KB\n"
     ]
    },
    {
     "name": "stderr",
     "output_type": "stream",
     "text": [
      "Copying files:   2%|▏         | 7/292 [01:14<45:40,  9.62s/file]"
     ]
    },
    {
     "name": "stdout",
     "output_type": "stream",
     "text": [
      "added P00278.tsv (522284.7 KB) - Total: 3855467.3 KB\n"
     ]
    },
    {
     "name": "stderr",
     "output_type": "stream",
     "text": [
      "Copying files:   3%|▎         | 8/292 [01:19<39:05,  8.26s/file]"
     ]
    },
    {
     "name": "stdout",
     "output_type": "stream",
     "text": [
      "added P00260.tsv (296523.5 KB) - Total: 4151990.8 KB\n"
     ]
    },
    {
     "name": "stderr",
     "output_type": "stream",
     "text": [
      "Copying files:   3%|▎         | 9/292 [01:26<36:46,  7.80s/file]"
     ]
    },
    {
     "name": "stdout",
     "output_type": "stream",
     "text": [
      "added P00208.tsv (344370.6 KB) - Total: 4496361.4 KB\n"
     ]
    },
    {
     "name": "stderr",
     "output_type": "stream",
     "text": [
      "Copying files:   3%|▎         | 10/292 [01:33<35:23,  7.53s/file]"
     ]
    },
    {
     "name": "stdout",
     "output_type": "stream",
     "text": [
      "added P00143.tsv (395304.3 KB) - Total: 4891665.7 KB\n"
     ]
    },
    {
     "name": "stderr",
     "output_type": "stream",
     "text": [
      "Copying files:   4%|▍         | 11/292 [01:35<28:07,  6.00s/file]"
     ]
    },
    {
     "name": "stdout",
     "output_type": "stream",
     "text": [
      "added P00085.tsv (123217.7 KB) - Total: 5014883.3 KB\n"
     ]
    },
    {
     "name": "stderr",
     "output_type": "stream",
     "text": [
      "Copying files:   4%|▍         | 12/292 [01:40<26:44,  5.73s/file]"
     ]
    },
    {
     "name": "stdout",
     "output_type": "stream",
     "text": [
      "added P00625.tsv (276040.6 KB) - Total: 5290923.9 KB\n"
     ]
    },
    {
     "name": "stderr",
     "output_type": "stream",
     "text": [
      "Copying files:   4%|▍         | 13/292 [01:41<19:17,  4.15s/file]"
     ]
    },
    {
     "name": "stdout",
     "output_type": "stream",
     "text": [
      "added P00572.tsv (27824.1 KB) - Total: 5318748.0 KB\n"
     ]
    },
    {
     "name": "stderr",
     "output_type": "stream",
     "text": [
      "Copying files:   5%|▍         | 14/292 [01:42<14:43,  3.18s/file]"
     ]
    },
    {
     "name": "stdout",
     "output_type": "stream",
     "text": [
      "added P00496.tsv (60081.4 KB) - Total: 5378829.4 KB\n"
     ]
    },
    {
     "name": "stderr",
     "output_type": "stream",
     "text": [
      "Copying files:   5%|▌         | 15/292 [01:53<25:37,  5.55s/file]"
     ]
    },
    {
     "name": "stdout",
     "output_type": "stream",
     "text": [
      "added P00422.tsv (656289.1 KB) - Total: 6035118.5 KB\n"
     ]
    },
    {
     "name": "stderr",
     "output_type": "stream",
     "text": [
      "Copying files:   5%|▌         | 16/292 [01:59<27:02,  5.88s/file]"
     ]
    },
    {
     "name": "stdout",
     "output_type": "stream",
     "text": [
      "added P00381.tsv (282837.5 KB) - Total: 6317956.0 KB\n"
     ]
    },
    {
     "name": "stderr",
     "output_type": "stream",
     "text": [
      "Copying files:   6%|▌         | 17/292 [02:05<26:54,  5.87s/file]"
     ]
    },
    {
     "name": "stdout",
     "output_type": "stream",
     "text": [
      "added P00570.tsv (322452.0 KB) - Total: 6640408.0 KB\n"
     ]
    },
    {
     "name": "stderr",
     "output_type": "stream",
     "text": [
      "Copying files:   6%|▌         | 18/292 [02:18<36:21,  7.96s/file]"
     ]
    },
    {
     "name": "stdout",
     "output_type": "stream",
     "text": [
      "added P00313.tsv (551659.9 KB) - Total: 7192067.9 KB\n"
     ]
    },
    {
     "name": "stderr",
     "output_type": "stream",
     "text": [
      "Copying files:   7%|▋         | 19/292 [02:31<42:50,  9.42s/file]"
     ]
    },
    {
     "name": "stdout",
     "output_type": "stream",
     "text": [
      "added P00308.tsv (406883.6 KB) - Total: 7598951.4 KB\n"
     ]
    },
    {
     "name": "stderr",
     "output_type": "stream",
     "text": [
      "Copying files:   7%|▋         | 20/292 [02:43<46:30, 10.26s/file]"
     ]
    },
    {
     "name": "stdout",
     "output_type": "stream",
     "text": [
      "added P00568.tsv (508443.7 KB) - Total: 8107395.1 KB\n"
     ]
    },
    {
     "name": "stderr",
     "output_type": "stream",
     "text": [
      "Copying files:   7%|▋         | 21/292 [02:55<48:42, 10.78s/file]"
     ]
    },
    {
     "name": "stdout",
     "output_type": "stream",
     "text": [
      "added P00088.tsv (489949.6 KB) - Total: 8597344.7 KB\n"
     ]
    },
    {
     "name": "stderr",
     "output_type": "stream",
     "text": [
      "Copying files:   8%|▊         | 22/292 [03:01<41:27,  9.21s/file]"
     ]
    },
    {
     "name": "stdout",
     "output_type": "stream",
     "text": [
      "added P00503.tsv (284648.2 KB) - Total: 8881992.9 KB\n"
     ]
    },
    {
     "name": "stderr",
     "output_type": "stream",
     "text": [
      "Copying files:   8%|▊         | 23/292 [03:08<39:02,  8.71s/file]"
     ]
    },
    {
     "name": "stdout",
     "output_type": "stream",
     "text": [
      "added P00205.tsv (273969.1 KB) - Total: 9155962.1 KB\n"
     ]
    },
    {
     "name": "stderr",
     "output_type": "stream",
     "text": [
      "Copying files:   8%|▊         | 24/292 [03:14<34:37,  7.75s/file]"
     ]
    },
    {
     "name": "stdout",
     "output_type": "stream",
     "text": [
      "added P00150.tsv (341612.8 KB) - Total: 9497574.9 KB\n"
     ]
    },
    {
     "name": "stderr",
     "output_type": "stream",
     "text": [
      "Copying files:   9%|▊         | 25/292 [03:22<34:52,  7.84s/file]"
     ]
    },
    {
     "name": "stdout",
     "output_type": "stream",
     "text": [
      "added P00377.tsv (460232.2 KB) - Total: 9957807.1 KB\n"
     ]
    },
    {
     "name": "stderr",
     "output_type": "stream",
     "text": [
      "Copying files:   9%|▉         | 26/292 [03:26<29:35,  6.67s/file]"
     ]
    },
    {
     "name": "stdout",
     "output_type": "stream",
     "text": [
      "added P00311.tsv (182706.9 KB) - Total: 10140514.0 KB\n"
     ]
    },
    {
     "name": "stderr",
     "output_type": "stream",
     "text": [
      "Copying files:   9%|▉         | 27/292 [03:30<27:00,  6.12s/file]"
     ]
    },
    {
     "name": "stdout",
     "output_type": "stream",
     "text": [
      "added P00632.tsv (287581.3 KB) - Total: 10428095.3 KB\n"
     ]
    },
    {
     "name": "stderr",
     "output_type": "stream",
     "text": [
      "Copying files:  10%|▉         | 28/292 [03:34<22:50,  5.19s/file]"
     ]
    },
    {
     "name": "stdout",
     "output_type": "stream",
     "text": [
      "added P00477.tsv (184694.6 KB) - Total: 10612789.9 KB\n"
     ]
    },
    {
     "name": "stderr",
     "output_type": "stream",
     "text": [
      "Copying files:  10%|▉         | 29/292 [03:38<21:54,  5.00s/file]"
     ]
    },
    {
     "name": "stdout",
     "output_type": "stream",
     "text": [
      "added P00419.tsv (279149.7 KB) - Total: 10891939.6 KB\n"
     ]
    },
    {
     "name": "stderr",
     "output_type": "stream",
     "text": [
      "Copying files:  10%|█         | 30/292 [03:40<18:16,  4.19s/file]"
     ]
    },
    {
     "name": "stdout",
     "output_type": "stream",
     "text": [
      "added P00405.tsv (139873.4 KB) - Total: 11031813.0 KB\n"
     ]
    },
    {
     "name": "stderr",
     "output_type": "stream",
     "text": [
      "Copying files:  11%|█         | 31/292 [03:44<17:01,  3.91s/file]"
     ]
    },
    {
     "name": "stdout",
     "output_type": "stream",
     "text": [
      "added P00367.tsv (151644.5 KB) - Total: 11183457.5 KB\n"
     ]
    },
    {
     "name": "stderr",
     "output_type": "stream",
     "text": [
      "Copying files:  11%|█         | 32/292 [03:48<17:35,  4.06s/file]"
     ]
    },
    {
     "name": "stdout",
     "output_type": "stream",
     "text": [
      "added P00360.tsv (210689.0 KB) - Total: 11394146.4 KB\n"
     ]
    },
    {
     "name": "stderr",
     "output_type": "stream",
     "text": [
      "Copying files:  11%|█▏        | 33/292 [04:00<27:21,  6.34s/file]"
     ]
    },
    {
     "name": "stdout",
     "output_type": "stream",
     "text": [
      "added P00216.tsv (295860.0 KB) - Total: 11690006.4 KB\n"
     ]
    },
    {
     "name": "stderr",
     "output_type": "stream",
     "text": [
      "Copying files:  12%|█▏        | 34/292 [04:04<24:36,  5.72s/file]"
     ]
    },
    {
     "name": "stdout",
     "output_type": "stream",
     "text": [
      "added P00148.tsv (211571.2 KB) - Total: 11901577.6 KB\n"
     ]
    },
    {
     "name": "stderr",
     "output_type": "stream",
     "text": [
      "Copying files:  12%|█▏        | 35/292 [04:16<32:46,  7.65s/file]"
     ]
    },
    {
     "name": "stdout",
     "output_type": "stream",
     "text": [
      "added P00086.tsv (525146.6 KB) - Total: 12426724.2 KB\n"
     ]
    },
    {
     "name": "stderr",
     "output_type": "stream",
     "text": [
      "Copying files:  12%|█▏        | 36/292 [04:23<31:30,  7.38s/file]"
     ]
    },
    {
     "name": "stdout",
     "output_type": "stream",
     "text": [
      "added P00063.tsv (344697.6 KB) - Total: 12771421.8 KB\n"
     ]
    },
    {
     "name": "stderr",
     "output_type": "stream",
     "text": [
      "Copying files:  13%|█▎        | 37/292 [04:26<26:21,  6.20s/file]"
     ]
    },
    {
     "name": "stdout",
     "output_type": "stream",
     "text": [
      "added P00008.tsv (190668.5 KB) - Total: 12962090.3 KB\n"
     ]
    },
    {
     "name": "stderr",
     "output_type": "stream",
     "text": [
      "Copying files:  13%|█▎        | 38/292 [04:31<24:04,  5.69s/file]"
     ]
    },
    {
     "name": "stdout",
     "output_type": "stream",
     "text": [
      "added P00296.tsv (188760.8 KB) - Total: 13150851.1 KB\n"
     ]
    },
    {
     "name": "stderr",
     "output_type": "stream",
     "text": [
      "Copying files:  13%|█▎        | 39/292 [04:34<20:44,  4.92s/file]"
     ]
    },
    {
     "name": "stdout",
     "output_type": "stream",
     "text": [
      "added P00575.tsv (38259.1 KB) - Total: 13189110.2 KB\n"
     ]
    },
    {
     "name": "stderr",
     "output_type": "stream",
     "text": [
      "Copying files:  14%|█▎        | 40/292 [04:39<20:28,  4.87s/file]"
     ]
    },
    {
     "name": "stdout",
     "output_type": "stream",
     "text": [
      "added P00565.tsv (207151.3 KB) - Total: 13396261.5 KB\n"
     ]
    },
    {
     "name": "stderr",
     "output_type": "stream",
     "text": [
      "Copying files:  14%|█▍        | 41/292 [04:43<19:26,  4.65s/file]"
     ]
    },
    {
     "name": "stdout",
     "output_type": "stream",
     "text": [
      "added P00312.tsv (272280.7 KB) - Total: 13668542.1 KB\n"
     ]
    },
    {
     "name": "stderr",
     "output_type": "stream",
     "text": [
      "Copying files:  14%|█▍        | 42/292 [04:45<16:15,  3.90s/file]"
     ]
    },
    {
     "name": "stdout",
     "output_type": "stream",
     "text": [
      "added P00358.tsv (125778.9 KB) - Total: 13794321.0 KB\n"
     ]
    },
    {
     "name": "stderr",
     "output_type": "stream",
     "text": [
      "Copying files:  15%|█▍        | 43/292 [04:51<18:17,  4.41s/file]"
     ]
    },
    {
     "name": "stdout",
     "output_type": "stream",
     "text": [
      "added P00178.tsv (276649.3 KB) - Total: 14070970.4 KB\n"
     ]
    },
    {
     "name": "stderr",
     "output_type": "stream",
     "text": [
      "Copying files:  15%|█▌        | 44/292 [04:52<14:07,  3.42s/file]"
     ]
    },
    {
     "name": "stdout",
     "output_type": "stream",
     "text": [
      "added P00177.tsv (72611.5 KB) - Total: 14143581.8 KB\n"
     ]
    },
    {
     "name": "stderr",
     "output_type": "stream",
     "text": [
      "Copying files:  15%|█▌        | 45/292 [04:53<11:53,  2.89s/file]"
     ]
    },
    {
     "name": "stdout",
     "output_type": "stream",
     "text": [
      "added P00120.tsv (109556.1 KB) - Total: 14253137.9 KB\n"
     ]
    },
    {
     "name": "stderr",
     "output_type": "stream",
     "text": [
      "Copying files:  16%|█▌        | 46/292 [05:00<16:49,  4.11s/file]"
     ]
    },
    {
     "name": "stdout",
     "output_type": "stream",
     "text": [
      "added P00334.tsv (347405.1 KB) - Total: 14600543.0 KB\n"
     ]
    },
    {
     "name": "stderr",
     "output_type": "stream",
     "text": [
      "Copying files:  16%|█▌        | 47/292 [05:12<25:54,  6.34s/file]"
     ]
    },
    {
     "name": "stdout",
     "output_type": "stream",
     "text": [
      "added P00336.tsv (566307.2 KB) - Total: 15166850.2 KB\n"
     ]
    },
    {
     "name": "stderr",
     "output_type": "stream",
     "text": [
      "Copying files:  16%|█▋        | 48/292 [05:26<35:55,  8.83s/file]"
     ]
    },
    {
     "name": "stdout",
     "output_type": "stream",
     "text": [
      "added P00305.tsv (474034.0 KB) - Total: 15640884.2 KB\n"
     ]
    },
    {
     "name": "stderr",
     "output_type": "stream",
     "text": [
      "Copying files:  17%|█▋        | 49/292 [05:54<59:00, 14.57s/file]"
     ]
    },
    {
     "name": "stdout",
     "output_type": "stream",
     "text": [
      "added P00135.tsv (534313.0 KB) - Total: 16175197.2 KB\n"
     ]
    },
    {
     "name": "stderr",
     "output_type": "stream",
     "text": [
      "Copying files:  17%|█▋        | 50/292 [06:16<1:07:11, 16.66s/file]"
     ]
    },
    {
     "name": "stdout",
     "output_type": "stream",
     "text": [
      "added P00161.tsv (489954.8 KB) - Total: 16665152.0 KB\n"
     ]
    },
    {
     "name": "stderr",
     "output_type": "stream",
     "text": [
      "Copying files:  17%|█▋        | 51/292 [06:45<1:22:16, 20.48s/file]"
     ]
    },
    {
     "name": "stdout",
     "output_type": "stream",
     "text": [
      "added P00140.tsv (803727.8 KB) - Total: 17468879.8 KB\n"
     ]
    },
    {
     "name": "stderr",
     "output_type": "stream",
     "text": [
      "Copying files:  18%|█▊        | 52/292 [07:03<1:18:50, 19.71s/file]"
     ]
    },
    {
     "name": "stdout",
     "output_type": "stream",
     "text": [
      "added P00029.tsv (667323.2 KB) - Total: 18136203.0 KB\n"
     ]
    },
    {
     "name": "stderr",
     "output_type": "stream",
     "text": [
      "Copying files:  18%|█▊        | 53/292 [07:23<1:18:43, 19.76s/file]"
     ]
    },
    {
     "name": "stdout",
     "output_type": "stream",
     "text": [
      "added P00536.tsv (598526.8 KB) - Total: 18734729.8 KB\n"
     ]
    },
    {
     "name": "stderr",
     "output_type": "stream",
     "text": [
      "Copying files:  18%|█▊        | 54/292 [07:44<1:20:08, 20.21s/file]"
     ]
    },
    {
     "name": "stdout",
     "output_type": "stream",
     "text": [
      "added P00301.tsv (589421.7 KB) - Total: 19324151.5 KB\n"
     ]
    },
    {
     "name": "stderr",
     "output_type": "stream",
     "text": [
      "Copying files:  19%|█▉        | 55/292 [07:50<1:02:04, 15.72s/file]"
     ]
    },
    {
     "name": "stdout",
     "output_type": "stream",
     "text": [
      "added P00010.tsv (213360.8 KB) - Total: 19537512.3 KB\n"
     ]
    },
    {
     "name": "stderr",
     "output_type": "stream",
     "text": [
      "Copying files:  19%|█▉        | 56/292 [08:04<1:00:27, 15.37s/file]"
     ]
    },
    {
     "name": "stdout",
     "output_type": "stream",
     "text": [
      "added P00314.tsv (528602.6 KB) - Total: 20066114.8 KB\n"
     ]
    },
    {
     "name": "stderr",
     "output_type": "stream",
     "text": [
      "Copying files:  20%|█▉        | 57/292 [08:22<1:03:27, 16.20s/file]"
     ]
    },
    {
     "name": "stdout",
     "output_type": "stream",
     "text": [
      "added P00094.tsv (725035.5 KB) - Total: 20791150.3 KB\n"
     ]
    },
    {
     "name": "stderr",
     "output_type": "stream",
     "text": [
      "Copying files:  20%|█▉        | 58/292 [08:31<54:39, 14.01s/file]  "
     ]
    },
    {
     "name": "stdout",
     "output_type": "stream",
     "text": [
      "added P00209.tsv (517184.6 KB) - Total: 21308334.9 KB\n"
     ]
    },
    {
     "name": "stderr",
     "output_type": "stream",
     "text": [
      "Copying files:  20%|██        | 59/292 [08:38<45:29, 11.71s/file]"
     ]
    },
    {
     "name": "stdout",
     "output_type": "stream",
     "text": [
      "added P00324.tsv (295446.2 KB) - Total: 21603781.1 KB\n"
     ]
    },
    {
     "name": "stderr",
     "output_type": "stream",
     "text": [
      "Copying files:  21%|██        | 60/292 [08:44<39:25, 10.20s/file]"
     ]
    },
    {
     "name": "stdout",
     "output_type": "stream",
     "text": [
      "added P00003.tsv (419000.7 KB) - Total: 22022781.8 KB\n"
     ]
    },
    {
     "name": "stderr",
     "output_type": "stream",
     "text": [
      "Copying files:  21%|██        | 61/292 [08:54<38:51, 10.09s/file]"
     ]
    },
    {
     "name": "stdout",
     "output_type": "stream",
     "text": [
      "added P00540.tsv (462880.0 KB) - Total: 22485661.9 KB\n"
     ]
    },
    {
     "name": "stderr",
     "output_type": "stream",
     "text": [
      "Copying files:  21%|██        | 62/292 [08:58<32:02,  8.36s/file]"
     ]
    },
    {
     "name": "stdout",
     "output_type": "stream",
     "text": [
      "added P00002.tsv (242090.9 KB) - Total: 22727752.7 KB\n"
     ]
    },
    {
     "name": "stderr",
     "output_type": "stream",
     "text": [
      "Copying files:  22%|██▏       | 63/292 [09:02<26:38,  6.98s/file]"
     ]
    },
    {
     "name": "stdout",
     "output_type": "stream",
     "text": [
      "added P00567.tsv (240820.4 KB) - Total: 22968573.2 KB\n"
     ]
    },
    {
     "name": "stderr",
     "output_type": "stream",
     "text": [
      "Copying files:  22%|██▏       | 64/292 [09:17<35:29,  9.34s/file]"
     ]
    },
    {
     "name": "stdout",
     "output_type": "stream",
     "text": [
      "added P00551.tsv (454376.8 KB) - Total: 23422949.9 KB\n"
     ]
    },
    {
     "name": "stderr",
     "output_type": "stream",
     "text": [
      "Copying files:  22%|██▏       | 65/292 [09:33<42:47, 11.31s/file]"
     ]
    },
    {
     "name": "stdout",
     "output_type": "stream",
     "text": [
      "added P00553.tsv (495026.5 KB) - Total: 23917976.5 KB\n"
     ]
    },
    {
     "name": "stderr",
     "output_type": "stream",
     "text": [
      "Copying files:  23%|██▎       | 66/292 [09:39<37:06,  9.85s/file]"
     ]
    },
    {
     "name": "stdout",
     "output_type": "stream",
     "text": [
      "added P00387.tsv (275292.0 KB) - Total: 24193268.5 KB\n"
     ]
    },
    {
     "name": "stderr",
     "output_type": "stream",
     "text": [
      "Copying files:  23%|██▎       | 67/292 [09:51<38:32, 10.28s/file]"
     ]
    },
    {
     "name": "stdout",
     "output_type": "stream",
     "text": [
      "added P00424.tsv (448785.8 KB) - Total: 24642054.2 KB\n"
     ]
    },
    {
     "name": "stderr",
     "output_type": "stream",
     "text": [
      "Copying files:  23%|██▎       | 68/292 [09:56<32:20,  8.66s/file]"
     ]
    },
    {
     "name": "stdout",
     "output_type": "stream",
     "text": [
      "added P00462.tsv (247292.3 KB) - Total: 24889346.6 KB\n"
     ]
    },
    {
     "name": "stderr",
     "output_type": "stream",
     "text": [
      "Copying files:  24%|██▎       | 69/292 [10:15<44:18, 11.92s/file]"
     ]
    },
    {
     "name": "stdout",
     "output_type": "stream",
     "text": [
      "added P00581.tsv (765654.0 KB) - Total: 25655000.6 KB\n"
     ]
    },
    {
     "name": "stderr",
     "output_type": "stream",
     "text": [
      "Copying files:  24%|██▍       | 70/292 [10:34<52:01, 14.06s/file]"
     ]
    },
    {
     "name": "stdout",
     "output_type": "stream",
     "text": [
      "added P00272.tsv (688930.3 KB) - Total: 26343930.9 KB\n"
     ]
    },
    {
     "name": "stderr",
     "output_type": "stream",
     "text": [
      "Copying files:  24%|██▍       | 71/292 [10:47<50:20, 13.67s/file]"
     ]
    },
    {
     "name": "stdout",
     "output_type": "stream",
     "text": [
      "added P00393.tsv (445124.9 KB) - Total: 26789055.8 KB\n"
     ]
    },
    {
     "name": "stderr",
     "output_type": "stream",
     "text": [
      "Copying files:  25%|██▍       | 72/292 [11:03<52:27, 14.31s/file]"
     ]
    },
    {
     "name": "stdout",
     "output_type": "stream",
     "text": [
      "added P00443.tsv (709271.6 KB) - Total: 27498327.4 KB\n"
     ]
    },
    {
     "name": "stderr",
     "output_type": "stream",
     "text": [
      "Copying files:  25%|██▌       | 73/292 [11:07<41:17, 11.31s/file]"
     ]
    },
    {
     "name": "stdout",
     "output_type": "stream",
     "text": [
      "added P00453.tsv (183114.8 KB) - Total: 27681442.2 KB\n"
     ]
    },
    {
     "name": "stderr",
     "output_type": "stream",
     "text": [
      "Copying files:  25%|██▌       | 74/292 [11:17<39:14, 10.80s/file]"
     ]
    },
    {
     "name": "stdout",
     "output_type": "stream",
     "text": [
      "added P00368.tsv (577187.8 KB) - Total: 28258630.0 KB\n"
     ]
    },
    {
     "name": "stderr",
     "output_type": "stream",
     "text": [
      "Copying files:  26%|██▌       | 75/292 [11:38<50:59, 14.10s/file]"
     ]
    },
    {
     "name": "stdout",
     "output_type": "stream",
     "text": [
      "added P00554.tsv (838480.3 KB) - Total: 29097110.3 KB\n"
     ]
    },
    {
     "name": "stderr",
     "output_type": "stream",
     "text": [
      "Copying files:  26%|██▌       | 76/292 [11:48<45:37, 12.68s/file]"
     ]
    },
    {
     "name": "stdout",
     "output_type": "stream",
     "text": [
      "added P00394.tsv (431932.9 KB) - Total: 29529043.2 KB\n"
     ]
    },
    {
     "name": "stderr",
     "output_type": "stream",
     "text": [
      "Copying files:  26%|██▋       | 77/292 [11:54<38:45, 10.82s/file]"
     ]
    },
    {
     "name": "stdout",
     "output_type": "stream",
     "text": [
      "added P00266.tsv (378146.0 KB) - Total: 29907189.2 KB\n"
     ]
    },
    {
     "name": "stderr",
     "output_type": "stream",
     "text": [
      "Copying files:  27%|██▋       | 78/292 [12:10<43:35, 12.22s/file]"
     ]
    },
    {
     "name": "stdout",
     "output_type": "stream",
     "text": [
      "added P00582.tsv (582909.2 KB) - Total: 30490098.4 KB\n"
     ]
    },
    {
     "name": "stderr",
     "output_type": "stream",
     "text": [
      "Copying files:  27%|██▋       | 79/292 [12:15<36:17, 10.22s/file]"
     ]
    },
    {
     "name": "stdout",
     "output_type": "stream",
     "text": [
      "added P00561.tsv (299152.3 KB) - Total: 30789250.7 KB\n"
     ]
    },
    {
     "name": "stderr",
     "output_type": "stream",
     "text": [
      "Copying files:  27%|██▋       | 80/292 [12:22<32:37,  9.24s/file]"
     ]
    },
    {
     "name": "stdout",
     "output_type": "stream",
     "text": [
      "added P00576.tsv (228191.2 KB) - Total: 31017441.9 KB\n"
     ]
    },
    {
     "name": "stderr",
     "output_type": "stream",
     "text": [
      "Copying files:  28%|██▊       | 81/292 [12:38<39:39, 11.28s/file]"
     ]
    },
    {
     "name": "stdout",
     "output_type": "stream",
     "text": [
      "added P00451.tsv (520886.0 KB) - Total: 31538327.8 KB\n"
     ]
    },
    {
     "name": "stderr",
     "output_type": "stream",
     "text": [
      "Copying files:  28%|██▊       | 82/292 [12:51<41:16, 11.79s/file]"
     ]
    },
    {
     "name": "stdout",
     "output_type": "stream",
     "text": [
      "added P00084.tsv (284311.3 KB) - Total: 31822639.1 KB\n"
     ]
    },
    {
     "name": "stderr",
     "output_type": "stream",
     "text": [
      "Copying files:  28%|██▊       | 83/292 [13:09<47:37, 13.67s/file]"
     ]
    },
    {
     "name": "stdout",
     "output_type": "stream",
     "text": [
      "added P00498.tsv (652715.5 KB) - Total: 32475354.7 KB\n"
     ]
    },
    {
     "name": "stderr",
     "output_type": "stream",
     "text": [
      "Copying files:  29%|██▉       | 84/292 [13:17<41:11, 11.88s/file]"
     ]
    },
    {
     "name": "stdout",
     "output_type": "stream",
     "text": [
      "added P00021.tsv (406066.2 KB) - Total: 32881420.9 KB\n"
     ]
    },
    {
     "name": "stderr",
     "output_type": "stream",
     "text": [
      "Copying files:  29%|██▉       | 85/292 [13:33<45:24, 13.16s/file]"
     ]
    },
    {
     "name": "stdout",
     "output_type": "stream",
     "text": [
      "added P00512.tsv (481411.3 KB) - Total: 33362832.2 KB\n"
     ]
    },
    {
     "name": "stderr",
     "output_type": "stream",
     "text": [
      "Copying files:  29%|██▉       | 86/292 [13:38<36:24, 10.60s/file]"
     ]
    },
    {
     "name": "stdout",
     "output_type": "stream",
     "text": [
      "added P00488.tsv (157673.7 KB) - Total: 33520505.9 KB\n"
     ]
    },
    {
     "name": "stderr",
     "output_type": "stream",
     "text": [
      "Copying files:  30%|██▉       | 87/292 [13:46<33:22,  9.77s/file]"
     ]
    },
    {
     "name": "stdout",
     "output_type": "stream",
     "text": [
      "added P00111.tsv (416291.7 KB) - Total: 33936797.6 KB\n"
     ]
    },
    {
     "name": "stderr",
     "output_type": "stream",
     "text": [
      "Copying files:  30%|███       | 88/292 [14:04<42:21, 12.46s/file]"
     ]
    },
    {
     "name": "stdout",
     "output_type": "stream",
     "text": [
      "added P00110.tsv (623950.2 KB) - Total: 34560747.8 KB\n"
     ]
    },
    {
     "name": "stderr",
     "output_type": "stream",
     "text": [
      "Copying files:  30%|███       | 89/292 [14:15<39:47, 11.76s/file]"
     ]
    },
    {
     "name": "stdout",
     "output_type": "stream",
     "text": [
      "added P00048.tsv (550700.7 KB) - Total: 35111448.5 KB\n"
     ]
    },
    {
     "name": "stderr",
     "output_type": "stream",
     "text": [
      "Copying files:  31%|███       | 90/292 [14:22<35:41, 10.60s/file]"
     ]
    },
    {
     "name": "stdout",
     "output_type": "stream",
     "text": [
      "added P00024.tsv (458823.2 KB) - Total: 35570271.7 KB\n"
     ]
    },
    {
     "name": "stderr",
     "output_type": "stream",
     "text": [
      "Copying files:  31%|███       | 91/292 [14:48<50:20, 15.03s/file]"
     ]
    },
    {
     "name": "stdout",
     "output_type": "stream",
     "text": [
      "added P00098.tsv (770139.4 KB) - Total: 36340411.1 KB\n"
     ]
    },
    {
     "name": "stderr",
     "output_type": "stream",
     "text": [
      "Copying files:  32%|███▏      | 92/292 [14:53<40:19, 12.10s/file]"
     ]
    },
    {
     "name": "stdout",
     "output_type": "stream",
     "text": [
      "added P00604.tsv (326693.8 KB) - Total: 36667104.9 KB\n"
     ]
    },
    {
     "name": "stderr",
     "output_type": "stream",
     "text": [
      "Copying files:  32%|███▏      | 93/292 [14:57<31:43,  9.57s/file]"
     ]
    },
    {
     "name": "stdout",
     "output_type": "stream",
     "text": [
      "added P00626.tsv (232032.6 KB) - Total: 36899137.5 KB\n"
     ]
    },
    {
     "name": "stderr",
     "output_type": "stream",
     "text": [
      "Copying files:  32%|███▏      | 94/292 [15:11<36:45, 11.14s/file]"
     ]
    },
    {
     "name": "stdout",
     "output_type": "stream",
     "text": [
      "added P00606.tsv (684093.3 KB) - Total: 37583230.9 KB\n"
     ]
    },
    {
     "name": "stderr",
     "output_type": "stream",
     "text": [
      "Copying files:  33%|███▎      | 95/292 [15:22<35:48, 10.91s/file]"
     ]
    },
    {
     "name": "stdout",
     "output_type": "stream",
     "text": [
      "added P00007.tsv (417601.0 KB) - Total: 38000831.9 KB\n"
     ]
    },
    {
     "name": "stderr",
     "output_type": "stream",
     "text": [
      "Copying files:  33%|███▎      | 96/292 [15:28<30:35,  9.36s/file]"
     ]
    },
    {
     "name": "stdout",
     "output_type": "stream",
     "text": [
      "added P00619.tsv (317650.7 KB) - Total: 38318482.6 KB\n"
     ]
    },
    {
     "name": "stderr",
     "output_type": "stream",
     "text": [
      "Copying files:  33%|███▎      | 97/292 [15:47<39:44, 12.23s/file]"
     ]
    },
    {
     "name": "stdout",
     "output_type": "stream",
     "text": [
      "added P00091.tsv (559688.4 KB) - Total: 38878171.0 KB\n"
     ]
    },
    {
     "name": "stderr",
     "output_type": "stream",
     "text": [
      "Copying files:  34%|███▎      | 98/292 [16:06<46:44, 14.46s/file]"
     ]
    },
    {
     "name": "stdout",
     "output_type": "stream",
     "text": [
      "added P00116.tsv (550105.3 KB) - Total: 39428276.3 KB\n"
     ]
    },
    {
     "name": "stderr",
     "output_type": "stream",
     "text": [
      "Copying files:  34%|███▍      | 99/292 [16:18<44:24, 13.81s/file]"
     ]
    },
    {
     "name": "stdout",
     "output_type": "stream",
     "text": [
      "added P00519.tsv (256736.1 KB) - Total: 39685012.4 KB\n"
     ]
    },
    {
     "name": "stderr",
     "output_type": "stream",
     "text": [
      "Copying files:  34%|███▍      | 100/292 [16:28<39:43, 12.41s/file]"
     ]
    },
    {
     "name": "stdout",
     "output_type": "stream",
     "text": [
      "added P00011.tsv (258947.0 KB) - Total: 39943959.3 KB\n"
     ]
    },
    {
     "name": "stderr",
     "output_type": "stream",
     "text": [
      "Copying files:  35%|███▍      | 101/292 [16:35<34:32, 10.85s/file]"
     ]
    },
    {
     "name": "stdout",
     "output_type": "stream",
     "text": [
      "added P00020.tsv (235080.3 KB) - Total: 40179039.7 KB\n"
     ]
    },
    {
     "name": "stderr",
     "output_type": "stream",
     "text": [
      "Copying files:  35%|███▍      | 102/292 [16:45<34:01, 10.74s/file]"
     ]
    },
    {
     "name": "stdout",
     "output_type": "stream",
     "text": [
      "added P00221.tsv (382809.7 KB) - Total: 40561849.4 KB\n"
     ]
    },
    {
     "name": "stderr",
     "output_type": "stream",
     "text": [
      "Copying files:  35%|███▌      | 103/292 [17:03<39:56, 12.68s/file]"
     ]
    },
    {
     "name": "stdout",
     "output_type": "stream",
     "text": [
      "added P00259.tsv (838998.8 KB) - Total: 41400848.2 KB\n"
     ]
    },
    {
     "name": "stderr",
     "output_type": "stream",
     "text": [
      "Copying files:  36%|███▌      | 104/292 [17:15<39:16, 12.54s/file]"
     ]
    },
    {
     "name": "stdout",
     "output_type": "stream",
     "text": [
      "added P00271.tsv (562304.2 KB) - Total: 41963152.4 KB\n"
     ]
    },
    {
     "name": "stderr",
     "output_type": "stream",
     "text": [
      "Copying files:  36%|███▌      | 105/292 [17:27<38:54, 12.49s/file]"
     ]
    },
    {
     "name": "stdout",
     "output_type": "stream",
     "text": [
      "added P00241.tsv (378126.8 KB) - Total: 42341279.2 KB\n"
     ]
    },
    {
     "name": "stderr",
     "output_type": "stream",
     "text": [
      "Copying files:  36%|███▋      | 106/292 [17:48<46:39, 15.05s/file]"
     ]
    },
    {
     "name": "stdout",
     "output_type": "stream",
     "text": [
      "added P00239.tsv (677024.0 KB) - Total: 43018303.2 KB\n"
     ]
    },
    {
     "name": "stderr",
     "output_type": "stream",
     "text": [
      "Copying files:  37%|███▋      | 107/292 [18:02<45:44, 14.84s/file]"
     ]
    },
    {
     "name": "stdout",
     "output_type": "stream",
     "text": [
      "added P00329.tsv (577964.1 KB) - Total: 43596267.3 KB\n"
     ]
    },
    {
     "name": "stderr",
     "output_type": "stream",
     "text": [
      "Copying files:  37%|███▋      | 108/292 [18:22<49:28, 16.14s/file]"
     ]
    },
    {
     "name": "stdout",
     "output_type": "stream",
     "text": [
      "added P00167.tsv (760328.2 KB) - Total: 44356595.5 KB\n"
     ]
    },
    {
     "name": "stderr",
     "output_type": "stream",
     "text": [
      "Copying files:  37%|███▋      | 109/292 [18:41<52:13, 17.12s/file]"
     ]
    },
    {
     "name": "stdout",
     "output_type": "stream",
     "text": [
      "added P00252.tsv (810636.2 KB) - Total: 45167231.7 KB\n"
     ]
    },
    {
     "name": "stderr",
     "output_type": "stream",
     "text": [
      "Copying files:  38%|███▊      | 110/292 [18:52<46:41, 15.39s/file]"
     ]
    },
    {
     "name": "stdout",
     "output_type": "stream",
     "text": [
      "added P00040.tsv (520373.7 KB) - Total: 45687605.3 KB\n"
     ]
    },
    {
     "name": "stderr",
     "output_type": "stream",
     "text": [
      "Copying files:  38%|███▊      | 111/292 [19:08<46:11, 15.31s/file]"
     ]
    },
    {
     "name": "stdout",
     "output_type": "stream",
     "text": [
      "added P00325.tsv (665296.5 KB) - Total: 46352901.9 KB\n"
     ]
    },
    {
     "name": "stderr",
     "output_type": "stream",
     "text": [
      "Copying files:  38%|███▊      | 112/292 [19:19<42:08, 14.05s/file]"
     ]
    },
    {
     "name": "stdout",
     "output_type": "stream",
     "text": [
      "added P00107.tsv (467137.9 KB) - Total: 46820039.7 KB\n"
     ]
    },
    {
     "name": "stderr",
     "output_type": "stream",
     "text": [
      "Copying files:  39%|███▊      | 113/292 [19:31<40:06, 13.44s/file]"
     ]
    },
    {
     "name": "stdout",
     "output_type": "stream",
     "text": [
      "added P00083.tsv (486199.2 KB) - Total: 47306238.9 KB\n"
     ]
    },
    {
     "name": "stderr",
     "output_type": "stream",
     "text": [
      "Copying files:  39%|███▉      | 114/292 [19:55<49:33, 16.71s/file]"
     ]
    },
    {
     "name": "stdout",
     "output_type": "stream",
     "text": [
      "added P00230.tsv (873095.8 KB) - Total: 48179334.7 KB\n"
     ]
    },
    {
     "name": "stderr",
     "output_type": "stream",
     "text": [
      "Copying files:  39%|███▉      | 115/292 [20:18<55:12, 18.72s/file]"
     ]
    },
    {
     "name": "stdout",
     "output_type": "stream",
     "text": [
      "added P00201.tsv (596050.4 KB) - Total: 48775385.1 KB\n"
     ]
    },
    {
     "name": "stderr",
     "output_type": "stream",
     "text": [
      "Copying files:  40%|███▉      | 116/292 [20:29<48:02, 16.38s/file]"
     ]
    },
    {
     "name": "stdout",
     "output_type": "stream",
     "text": [
      "added P00056.tsv (397103.2 KB) - Total: 49172488.3 KB\n"
     ]
    },
    {
     "name": "stderr",
     "output_type": "stream",
     "text": [
      "Copying files:  40%|████      | 117/292 [20:50<51:37, 17.70s/file]"
     ]
    },
    {
     "name": "stdout",
     "output_type": "stream",
     "text": [
      "added P00229.tsv (881235.3 KB) - Total: 50053723.6 KB\n"
     ]
    },
    {
     "name": "stderr",
     "output_type": "stream",
     "text": [
      "Copying files:  40%|████      | 118/292 [21:04<48:18, 16.66s/file]"
     ]
    },
    {
     "name": "stdout",
     "output_type": "stream",
     "text": [
      "added P00246.tsv (495559.4 KB) - Total: 50549283.0 KB\n"
     ]
    },
    {
     "name": "stderr",
     "output_type": "stream",
     "text": [
      "Copying files:  41%|████      | 119/292 [21:13<40:56, 14.20s/file]"
     ]
    },
    {
     "name": "stdout",
     "output_type": "stream",
     "text": [
      "added P00151.tsv (388689.1 KB) - Total: 50937972.1 KB\n"
     ]
    },
    {
     "name": "stderr",
     "output_type": "stream",
     "text": [
      "Copying files:  41%|████      | 120/292 [21:20<34:34, 12.06s/file]"
     ]
    },
    {
     "name": "stdout",
     "output_type": "stream",
     "text": [
      "added P00166.tsv (393119.6 KB) - Total: 51331091.7 KB\n"
     ]
    },
    {
     "name": "stderr",
     "output_type": "stream",
     "text": [
      "Copying files:  41%|████▏     | 121/292 [21:37<39:06, 13.72s/file]"
     ]
    },
    {
     "name": "stdout",
     "output_type": "stream",
     "text": [
      "added P00255.tsv (815241.0 KB) - Total: 52146332.7 KB\n"
     ]
    },
    {
     "name": "stderr",
     "output_type": "stream",
     "text": [
      "Copying files:  42%|████▏     | 122/292 [21:41<30:01, 10.60s/file]"
     ]
    },
    {
     "name": "stdout",
     "output_type": "stream",
     "text": [
      "added P00191.tsv (143765.5 KB) - Total: 52290098.2 KB\n"
     ]
    },
    {
     "name": "stderr",
     "output_type": "stream",
     "text": [
      "Copying files:  42%|████▏     | 123/292 [22:07<42:52, 15.22s/file]"
     ]
    },
    {
     "name": "stdout",
     "output_type": "stream",
     "text": [
      "added P00375.tsv (861285.2 KB) - Total: 53151383.4 KB\n"
     ]
    },
    {
     "name": "stderr",
     "output_type": "stream",
     "text": [
      "Copying files:  42%|████▏     | 124/292 [22:20<40:45, 14.55s/file]"
     ]
    },
    {
     "name": "stdout",
     "output_type": "stream",
     "text": [
      "added P00251.tsv (433725.5 KB) - Total: 53585108.9 KB\n"
     ]
    },
    {
     "name": "stderr",
     "output_type": "stream",
     "text": [
      "Copying files:  43%|████▎     | 125/292 [22:33<39:29, 14.19s/file]"
     ]
    },
    {
     "name": "stdout",
     "output_type": "stream",
     "text": [
      "added P00171.tsv (549445.0 KB) - Total: 54134553.9 KB\n"
     ]
    },
    {
     "name": "stderr",
     "output_type": "stream",
     "text": [
      "Copying files:  43%|████▎     | 126/292 [22:53<43:42, 15.80s/file]"
     ]
    },
    {
     "name": "stdout",
     "output_type": "stream",
     "text": [
      "added P00128.tsv (812718.4 KB) - Total: 54947272.3 KB\n"
     ]
    },
    {
     "name": "stderr",
     "output_type": "stream",
     "text": [
      "Copying files:  43%|████▎     | 127/292 [22:58<34:35, 12.58s/file]"
     ]
    },
    {
     "name": "stdout",
     "output_type": "stream",
     "text": [
      "added P00340.tsv (232294.0 KB) - Total: 55179566.3 KB\n"
     ]
    },
    {
     "name": "stderr",
     "output_type": "stream",
     "text": [
      "Copying files:  44%|████▍     | 128/292 [23:15<38:04, 13.93s/file]"
     ]
    },
    {
     "name": "stdout",
     "output_type": "stream",
     "text": [
      "added P00351.tsv (852265.3 KB) - Total: 56031831.6 KB\n"
     ]
    },
    {
     "name": "stderr",
     "output_type": "stream",
     "text": [
      "Copying files:  44%|████▍     | 129/292 [23:28<37:28, 13.79s/file]"
     ]
    },
    {
     "name": "stdout",
     "output_type": "stream",
     "text": [
      "added P00347.tsv (527928.5 KB) - Total: 56559760.1 KB\n"
     ]
    },
    {
     "name": "stderr",
     "output_type": "stream",
     "text": [
      "Copying files:  45%|████▍     | 130/292 [23:41<36:03, 13.36s/file]"
     ]
    },
    {
     "name": "stdout",
     "output_type": "stream",
     "text": [
      "added P00165.tsv (310408.1 KB) - Total: 56870168.2 KB\n"
     ]
    },
    {
     "name": "stderr",
     "output_type": "stream",
     "text": [
      "Copying files:  45%|████▍     | 131/292 [23:53<34:42, 12.94s/file]"
     ]
    },
    {
     "name": "stdout",
     "output_type": "stream",
     "text": [
      "added P00363.tsv (390858.5 KB) - Total: 57261026.7 KB\n"
     ]
    },
    {
     "name": "stderr",
     "output_type": "stream",
     "text": [
      "Copying files:  45%|████▌     | 132/292 [24:12<39:57, 14.98s/file]"
     ]
    },
    {
     "name": "stdout",
     "output_type": "stream",
     "text": [
      "added P00211.tsv (699463.7 KB) - Total: 57960490.4 KB\n"
     ]
    },
    {
     "name": "stderr",
     "output_type": "stream",
     "text": [
      "Copying files:  46%|████▌     | 133/292 [24:21<34:33, 13.04s/file]"
     ]
    },
    {
     "name": "stdout",
     "output_type": "stream",
     "text": [
      "added P00537.tsv (375009.0 KB) - Total: 58335499.3 KB\n"
     ]
    },
    {
     "name": "stderr",
     "output_type": "stream",
     "text": [
      "Copying files:  46%|████▌     | 134/292 [24:28<29:17, 11.12s/file]"
     ]
    },
    {
     "name": "stdout",
     "output_type": "stream",
     "text": [
      "added P00137.tsv (339180.4 KB) - Total: 58674679.7 KB\n"
     ]
    },
    {
     "name": "stderr",
     "output_type": "stream",
     "text": [
      "Copying files:  46%|████▌     | 135/292 [24:45<34:10, 13.06s/file]"
     ]
    },
    {
     "name": "stdout",
     "output_type": "stream",
     "text": [
      "added P00505.tsv (654603.3 KB) - Total: 59329283.0 KB\n"
     ]
    },
    {
     "name": "stderr",
     "output_type": "stream",
     "text": [
      "Copying files:  47%|████▋     | 136/292 [24:51<28:37, 11.01s/file]"
     ]
    },
    {
     "name": "stdout",
     "output_type": "stream",
     "text": [
      "added P00131.tsv (302947.3 KB) - Total: 59632230.3 KB\n"
     ]
    },
    {
     "name": "stderr",
     "output_type": "stream",
     "text": [
      "Copying files:  47%|████▋     | 137/292 [25:06<31:14, 12.09s/file]"
     ]
    },
    {
     "name": "stdout",
     "output_type": "stream",
     "text": [
      "added P00125.tsv (622402.0 KB) - Total: 60254632.3 KB\n"
     ]
    },
    {
     "name": "stderr",
     "output_type": "stream",
     "text": [
      "Copying files:  47%|████▋     | 138/292 [25:16<29:07, 11.34s/file]"
     ]
    },
    {
     "name": "stdout",
     "output_type": "stream",
     "text": [
      "added P00359.tsv (293205.9 KB) - Total: 60547838.2 KB\n"
     ]
    },
    {
     "name": "stderr",
     "output_type": "stream",
     "text": [
      "Copying files:  48%|████▊     | 139/292 [25:37<36:20, 14.25s/file]"
     ]
    },
    {
     "name": "stdout",
     "output_type": "stream",
     "text": [
      "added P00349.tsv (873626.3 KB) - Total: 61421464.6 KB\n"
     ]
    },
    {
     "name": "stderr",
     "output_type": "stream",
     "text": [
      "Copying files:  48%|████▊     | 140/292 [25:49<34:30, 13.62s/file]"
     ]
    },
    {
     "name": "stdout",
     "output_type": "stream",
     "text": [
      "added P00337.tsv (487815.0 KB) - Total: 61909279.5 KB\n"
     ]
    },
    {
     "name": "stderr",
     "output_type": "stream",
     "text": [
      "Copying files:  48%|████▊     | 141/292 [26:07<37:50, 15.03s/file]"
     ]
    },
    {
     "name": "stdout",
     "output_type": "stream",
     "text": [
      "added P00142.tsv (448726.5 KB) - Total: 62358006.0 KB\n"
     ]
    },
    {
     "name": "stderr",
     "output_type": "stream",
     "text": [
      "Copying files:  49%|████▊     | 142/292 [26:23<38:37, 15.45s/file]"
     ]
    },
    {
     "name": "stdout",
     "output_type": "stream",
     "text": [
      "added P00389.tsv (902653.3 KB) - Total: 63260659.3 KB\n"
     ]
    },
    {
     "name": "stderr",
     "output_type": "stream",
     "text": [
      "Copying files:  49%|████▉     | 143/292 [26:33<34:16, 13.80s/file]"
     ]
    },
    {
     "name": "stdout",
     "output_type": "stream",
     "text": [
      "added P00130.tsv (408912.8 KB) - Total: 63669572.2 KB\n"
     ]
    },
    {
     "name": "stderr",
     "output_type": "stream",
     "text": [
      "Copying files:  49%|████▉     | 144/292 [26:49<35:21, 14.33s/file]"
     ]
    },
    {
     "name": "stdout",
     "output_type": "stream",
     "text": [
      "added P00495.tsv (534221.8 KB) - Total: 64203794.0 KB\n"
     ]
    },
    {
     "name": "stderr",
     "output_type": "stream",
     "text": [
      "Copying files:  50%|████▉     | 145/292 [27:00<32:22, 13.22s/file]"
     ]
    },
    {
     "name": "stdout",
     "output_type": "stream",
     "text": [
      "added P00268.tsv (414369.2 KB) - Total: 64618163.2 KB\n"
     ]
    },
    {
     "name": "stderr",
     "output_type": "stream",
     "text": [
      "Copying files:  50%|█████     | 146/292 [27:11<30:47, 12.65s/file]"
     ]
    },
    {
     "name": "stdout",
     "output_type": "stream",
     "text": [
      "added P00589.tsv (509588.8 KB) - Total: 65127752.0 KB\n"
     ]
    },
    {
     "name": "stderr",
     "output_type": "stream",
     "text": [
      "Copying files:  50%|█████     | 147/292 [27:31<35:36, 14.74s/file]"
     ]
    },
    {
     "name": "stdout",
     "output_type": "stream",
     "text": [
      "added P00574.tsv (816629.6 KB) - Total: 65944381.6 KB\n"
     ]
    },
    {
     "name": "stderr",
     "output_type": "stream",
     "text": [
      "Copying files:  51%|█████     | 148/292 [27:46<35:40, 14.87s/file]"
     ]
    },
    {
     "name": "stdout",
     "output_type": "stream",
     "text": [
      "added P00276.tsv (689336.2 KB) - Total: 66633717.8 KB\n"
     ]
    },
    {
     "name": "stderr",
     "output_type": "stream",
     "text": [
      "Copying files:  51%|█████     | 149/292 [27:54<30:55, 12.98s/file]"
     ]
    },
    {
     "name": "stdout",
     "output_type": "stream",
     "text": [
      "added P00275.tsv (398229.7 KB) - Total: 67031947.5 KB\n"
     ]
    },
    {
     "name": "stderr",
     "output_type": "stream",
     "text": [
      "Copying files:  51%|█████▏    | 150/292 [28:09<31:38, 13.37s/file]"
     ]
    },
    {
     "name": "stdout",
     "output_type": "stream",
     "text": [
      "added P00315.tsv (567908.7 KB) - Total: 67599856.1 KB\n"
     ]
    },
    {
     "name": "stderr",
     "output_type": "stream",
     "text": [
      "Copying files:  52%|█████▏    | 151/292 [28:14<26:00, 11.07s/file]"
     ]
    },
    {
     "name": "stdout",
     "output_type": "stream",
     "text": [
      "added P00435.tsv (322187.6 KB) - Total: 67922043.7 KB\n"
     ]
    },
    {
     "name": "stderr",
     "output_type": "stream",
     "text": [
      "Copying files:  52%|█████▏    | 152/292 [28:27<26:55, 11.54s/file]"
     ]
    },
    {
     "name": "stdout",
     "output_type": "stream",
     "text": [
      "added P00530.tsv (399857.7 KB) - Total: 68321901.4 KB\n"
     ]
    },
    {
     "name": "stderr",
     "output_type": "stream",
     "text": [
      "Copying files:  52%|█████▏    | 153/292 [28:40<27:55, 12.05s/file]"
     ]
    },
    {
     "name": "stdout",
     "output_type": "stream",
     "text": [
      "added P00605.tsv (477280.7 KB) - Total: 68799182.0 KB\n"
     ]
    },
    {
     "name": "stderr",
     "output_type": "stream",
     "text": [
      "Copying files:  53%|█████▎    | 154/292 [28:58<31:26, 13.67s/file]"
     ]
    },
    {
     "name": "stdout",
     "output_type": "stream",
     "text": [
      "added P00598.tsv (771737.1 KB) - Total: 69570919.1 KB\n"
     ]
    },
    {
     "name": "stderr",
     "output_type": "stream",
     "text": [
      "Copying files:  53%|█████▎    | 155/292 [29:09<29:53, 13.09s/file]"
     ]
    },
    {
     "name": "stdout",
     "output_type": "stream",
     "text": [
      "added P00593.tsv (653138.4 KB) - Total: 70224057.5 KB\n"
     ]
    },
    {
     "name": "stderr",
     "output_type": "stream",
     "text": [
      "Copying files:  53%|█████▎    | 156/292 [29:20<27:55, 12.32s/file]"
     ]
    },
    {
     "name": "stdout",
     "output_type": "stream",
     "text": [
      "added P00516.tsv (532282.4 KB) - Total: 70756340.0 KB\n"
     ]
    },
    {
     "name": "stderr",
     "output_type": "stream",
     "text": [
      "Copying files:  54%|█████▍    | 157/292 [29:32<27:16, 12.12s/file]"
     ]
    },
    {
     "name": "stdout",
     "output_type": "stream",
     "text": [
      "added P00455.tsv (500323.8 KB) - Total: 71256663.7 KB\n"
     ]
    },
    {
     "name": "stderr",
     "output_type": "stream",
     "text": [
      "Copying files:  54%|█████▍    | 158/292 [29:34<20:27,  9.16s/file]"
     ]
    },
    {
     "name": "stdout",
     "output_type": "stream",
     "text": [
      "added P00410.tsv (94314.5 KB) - Total: 71350978.3 KB\n"
     ]
    },
    {
     "name": "stderr",
     "output_type": "stream",
     "text": [
      "Copying files:  54%|█████▍    | 159/292 [29:43<20:31,  9.26s/file]"
     ]
    },
    {
     "name": "stdout",
     "output_type": "stream",
     "text": [
      "added P00350.tsv (566916.4 KB) - Total: 71917894.7 KB\n"
     ]
    },
    {
     "name": "stderr",
     "output_type": "stream",
     "text": [
      "Copying files:  55%|█████▍    | 160/292 [29:55<21:52,  9.94s/file]"
     ]
    },
    {
     "name": "stdout",
     "output_type": "stream",
     "text": [
      "added P00657.tsv (530078.6 KB) - Total: 72447973.3 KB\n"
     ]
    },
    {
     "name": "stderr",
     "output_type": "stream",
     "text": [
      "Copying files:  55%|█████▌    | 161/292 [30:11<25:29, 11.68s/file]"
     ]
    },
    {
     "name": "stdout",
     "output_type": "stream",
     "text": [
      "added P00638.tsv (727689.1 KB) - Total: 73175662.4 KB\n"
     ]
    },
    {
     "name": "stderr",
     "output_type": "stream",
     "text": [
      "Copying files:  55%|█████▌    | 162/292 [30:26<27:45, 12.81s/file]"
     ]
    },
    {
     "name": "stdout",
     "output_type": "stream",
     "text": [
      "added P00550.tsv (518148.3 KB) - Total: 73693810.7 KB\n"
     ]
    },
    {
     "name": "stderr",
     "output_type": "stream",
     "text": [
      "Copying files:  56%|█████▌    | 163/292 [30:37<26:24, 12.28s/file]"
     ]
    },
    {
     "name": "stdout",
     "output_type": "stream",
     "text": [
      "added P00618.tsv (546276.3 KB) - Total: 74240087.0 KB\n"
     ]
    },
    {
     "name": "stderr",
     "output_type": "stream",
     "text": [
      "Copying files:  56%|█████▌    | 164/292 [30:55<29:37, 13.89s/file]"
     ]
    },
    {
     "name": "stdout",
     "output_type": "stream",
     "text": [
      "added P00648.tsv (580552.7 KB) - Total: 74820639.6 KB\n"
     ]
    },
    {
     "name": "stderr",
     "output_type": "stream",
     "text": [
      "Copying files:  57%|█████▋    | 165/292 [31:26<40:38, 19.20s/file]"
     ]
    },
    {
     "name": "stdout",
     "output_type": "stream",
     "text": [
      "added P00458.tsv (971680.5 KB) - Total: 75792320.1 KB\n"
     ]
    },
    {
     "name": "stderr",
     "output_type": "stream",
     "text": [
      "Copying files:  57%|█████▋    | 166/292 [31:42<38:11, 18.19s/file]"
     ]
    },
    {
     "name": "stdout",
     "output_type": "stream",
     "text": [
      "added P00295.tsv (651852.2 KB) - Total: 76444172.3 KB\n"
     ]
    },
    {
     "name": "stderr",
     "output_type": "stream",
     "text": [
      "Copying files:  57%|█████▋    | 167/292 [31:51<31:50, 15.28s/file]"
     ]
    },
    {
     "name": "stdout",
     "output_type": "stream",
     "text": [
      "added P00383.tsv (481785.6 KB) - Total: 76925957.9 KB\n"
     ]
    },
    {
     "name": "stderr",
     "output_type": "stream",
     "text": [
      "Copying files:  58%|█████▊    | 168/292 [32:04<30:31, 14.77s/file]"
     ]
    },
    {
     "name": "stdout",
     "output_type": "stream",
     "text": [
      "added P00486.tsv (558194.6 KB) - Total: 77484152.4 KB\n"
     ]
    },
    {
     "name": "stderr",
     "output_type": "stream",
     "text": [
      "Copying files:  58%|█████▊    | 169/292 [32:23<32:40, 15.94s/file]"
     ]
    },
    {
     "name": "stdout",
     "output_type": "stream",
     "text": [
      "added P00577.tsv (811465.0 KB) - Total: 78295617.5 KB\n"
     ]
    },
    {
     "name": "stderr",
     "output_type": "stream",
     "text": [
      "Copying files:  58%|█████▊    | 170/292 [32:42<34:13, 16.83s/file]"
     ]
    },
    {
     "name": "stdout",
     "output_type": "stream",
     "text": [
      "added P00564.tsv (782253.8 KB) - Total: 79077871.2 KB\n"
     ]
    },
    {
     "name": "stderr",
     "output_type": "stream",
     "text": [
      "Copying files:  59%|█████▊    | 171/292 [32:53<30:25, 15.08s/file]"
     ]
    },
    {
     "name": "stdout",
     "output_type": "stream",
     "text": [
      "added P00356.tsv (544496.2 KB) - Total: 79622367.5 KB\n"
     ]
    },
    {
     "name": "stderr",
     "output_type": "stream",
     "text": [
      "Copying files:  59%|█████▉    | 172/292 [33:07<29:49, 14.91s/file]"
     ]
    },
    {
     "name": "stdout",
     "output_type": "stream",
     "text": [
      "added P00380.tsv (585167.2 KB) - Total: 80207534.6 KB\n"
     ]
    },
    {
     "name": "stderr",
     "output_type": "stream",
     "text": [
      "Copying files:  59%|█████▉    | 173/292 [33:24<30:51, 15.56s/file]"
     ]
    },
    {
     "name": "stdout",
     "output_type": "stream",
     "text": [
      "added P00014.tsv (856750.4 KB) - Total: 81064285.0 KB\n"
     ]
    },
    {
     "name": "stderr",
     "output_type": "stream",
     "text": [
      "Copying files:  60%|█████▉    | 174/292 [33:33<26:18, 13.38s/file]"
     ]
    },
    {
     "name": "stdout",
     "output_type": "stream",
     "text": [
      "added P00631.tsv (370243.1 KB) - Total: 81434528.2 KB\n"
     ]
    },
    {
     "name": "stderr",
     "output_type": "stream",
     "text": [
      "Copying files:  60%|█████▉    | 175/292 [33:54<30:43, 15.75s/file]"
     ]
    },
    {
     "name": "stdout",
     "output_type": "stream",
     "text": [
      "added P00038.tsv (706487.7 KB) - Total: 82141015.9 KB\n"
     ]
    },
    {
     "name": "stderr",
     "output_type": "stream",
     "text": [
      "Copying files:  60%|██████    | 176/292 [34:15<33:21, 17.26s/file]"
     ]
    },
    {
     "name": "stdout",
     "output_type": "stream",
     "text": [
      "added P00055.tsv (692051.1 KB) - Total: 82833067.0 KB\n"
     ]
    },
    {
     "name": "stderr",
     "output_type": "stream",
     "text": [
      "Copying files:  61%|██████    | 177/292 [34:36<35:38, 18.60s/file]"
     ]
    },
    {
     "name": "stdout",
     "output_type": "stream",
     "text": [
      "added P00019.tsv (862537.3 KB) - Total: 83695604.3 KB\n"
     ]
    },
    {
     "name": "stderr",
     "output_type": "stream",
     "text": [
      "Copying files:  61%|██████    | 178/292 [34:47<30:32, 16.08s/file]"
     ]
    },
    {
     "name": "stdout",
     "output_type": "stream",
     "text": [
      "added P00030.tsv (471247.0 KB) - Total: 84166851.3 KB\n"
     ]
    },
    {
     "name": "stderr",
     "output_type": "stream",
     "text": [
      "Copying files:  61%|██████▏   | 179/292 [34:54<25:36, 13.60s/file]"
     ]
    },
    {
     "name": "stdout",
     "output_type": "stream",
     "text": [
      "added P00066.tsv (482196.1 KB) - Total: 84649047.4 KB\n"
     ]
    },
    {
     "name": "stderr",
     "output_type": "stream",
     "text": [
      "Copying files:  62%|██████▏   | 180/292 [35:04<22:55, 12.29s/file]"
     ]
    },
    {
     "name": "stdout",
     "output_type": "stream",
     "text": [
      "added P00045.tsv (390566.5 KB) - Total: 85039614.0 KB\n"
     ]
    },
    {
     "name": "stderr",
     "output_type": "stream",
     "text": [
      "Copying files:  62%|██████▏   | 181/292 [35:14<21:51, 11.82s/file]"
     ]
    },
    {
     "name": "stdout",
     "output_type": "stream",
     "text": [
      "added P00059.tsv (628052.7 KB) - Total: 85667666.6 KB\n"
     ]
    },
    {
     "name": "stderr",
     "output_type": "stream",
     "text": [
      "Copying files:  62%|██████▏   | 182/292 [35:34<25:55, 14.14s/file]"
     ]
    },
    {
     "name": "stdout",
     "output_type": "stream",
     "text": [
      "added P00058.tsv (772853.1 KB) - Total: 86440519.7 KB\n"
     ]
    },
    {
     "name": "stderr",
     "output_type": "stream",
     "text": [
      "Copying files:  63%|██████▎   | 183/292 [35:43<22:48, 12.56s/file]"
     ]
    },
    {
     "name": "stdout",
     "output_type": "stream",
     "text": [
      "added P00031.tsv (469773.7 KB) - Total: 86910293.4 KB\n"
     ]
    },
    {
     "name": "stderr",
     "output_type": "stream",
     "text": [
      "Copying files:  63%|██████▎   | 184/292 [35:59<24:30, 13.61s/file]"
     ]
    },
    {
     "name": "stdout",
     "output_type": "stream",
     "text": [
      "added P00194.tsv (625571.4 KB) - Total: 87535864.8 KB\n"
     ]
    },
    {
     "name": "stderr",
     "output_type": "stream",
     "text": [
      "Copying files:  63%|██████▎   | 185/292 [36:15<25:38, 14.38s/file]"
     ]
    },
    {
     "name": "stdout",
     "output_type": "stream",
     "text": [
      "added P00006.tsv (542977.0 KB) - Total: 88078841.8 KB\n"
     ]
    },
    {
     "name": "stderr",
     "output_type": "stream",
     "text": [
      "Copying files:  64%|██████▎   | 186/292 [36:28<24:27, 13.84s/file]"
     ]
    },
    {
     "name": "stdout",
     "output_type": "stream",
     "text": [
      "added P00036.tsv (673572.8 KB) - Total: 88752414.7 KB\n"
     ]
    },
    {
     "name": "stderr",
     "output_type": "stream",
     "text": [
      "Copying files:  64%|██████▍   | 187/292 [37:09<38:45, 22.15s/file]"
     ]
    },
    {
     "name": "stdout",
     "output_type": "stream",
     "text": [
      "added P00093.tsv (1067267.9 KB) - Total: 89819682.5 KB\n"
     ]
    },
    {
     "name": "stderr",
     "output_type": "stream",
     "text": [
      "Copying files:  64%|██████▍   | 188/292 [37:23<34:11, 19.73s/file]"
     ]
    },
    {
     "name": "stdout",
     "output_type": "stream",
     "text": [
      "added P00152.tsv (474203.8 KB) - Total: 90293886.3 KB\n"
     ]
    },
    {
     "name": "stderr",
     "output_type": "stream",
     "text": [
      "Copying files:  65%|██████▍   | 189/292 [37:37<30:54, 18.01s/file]"
     ]
    },
    {
     "name": "stdout",
     "output_type": "stream",
     "text": [
      "added P00225.tsv (521676.3 KB) - Total: 90815562.6 KB\n"
     ]
    },
    {
     "name": "stderr",
     "output_type": "stream",
     "text": [
      "Copying files:  65%|██████▌   | 190/292 [38:04<35:13, 20.72s/file]"
     ]
    },
    {
     "name": "stdout",
     "output_type": "stream",
     "text": [
      "added P00141.tsv (693895.4 KB) - Total: 91509458.0 KB\n"
     ]
    },
    {
     "name": "stderr",
     "output_type": "stream",
     "text": [
      "Copying files:  65%|██████▌   | 191/292 [38:16<30:09, 17.92s/file]"
     ]
    },
    {
     "name": "stdout",
     "output_type": "stream",
     "text": [
      "added P00256.tsv (400959.4 KB) - Total: 91910417.4 KB\n"
     ]
    },
    {
     "name": "stderr",
     "output_type": "stream",
     "text": [
      "Copying files:  66%|██████▌   | 192/292 [38:38<32:16, 19.36s/file]"
     ]
    },
    {
     "name": "stdout",
     "output_type": "stream",
     "text": [
      "added P00032.tsv (871171.2 KB) - Total: 92781588.5 KB\n"
     ]
    },
    {
     "name": "stderr",
     "output_type": "stream",
     "text": [
      "Copying files:  66%|██████▌   | 193/292 [39:13<39:27, 23.91s/file]"
     ]
    },
    {
     "name": "stdout",
     "output_type": "stream",
     "text": [
      "added P00224.tsv (945019.8 KB) - Total: 93726608.3 KB\n"
     ]
    },
    {
     "name": "stderr",
     "output_type": "stream",
     "text": [
      "Copying files:  66%|██████▋   | 194/292 [39:44<42:31, 26.03s/file]"
     ]
    },
    {
     "name": "stdout",
     "output_type": "stream",
     "text": [
      "added P00233.tsv (1018373.2 KB) - Total: 94744981.5 KB\n"
     ]
    },
    {
     "name": "stderr",
     "output_type": "stream",
     "text": [
      "Copying files:  67%|██████▋   | 195/292 [40:21<47:23, 29.32s/file]"
     ]
    },
    {
     "name": "stdout",
     "output_type": "stream",
     "text": [
      "added P00106.tsv (1032628.0 KB) - Total: 95777609.5 KB\n"
     ]
    },
    {
     "name": "stderr",
     "output_type": "stream",
     "text": [
      "Copying files:  67%|██████▋   | 196/292 [40:26<35:25, 22.14s/file]"
     ]
    },
    {
     "name": "stdout",
     "output_type": "stream",
     "text": [
      "added P00099.tsv (242160.9 KB) - Total: 96019770.4 KB\n"
     ]
    },
    {
     "name": "stderr",
     "output_type": "stream",
     "text": [
      "Copying files:  67%|██████▋   | 197/292 [40:37<29:44, 18.79s/file]"
     ]
    },
    {
     "name": "stdout",
     "output_type": "stream",
     "text": [
      "added P00212.tsv (645399.2 KB) - Total: 96665169.6 KB\n"
     ]
    },
    {
     "name": "stderr",
     "output_type": "stream",
     "text": [
      "Copying files:  68%|██████▊   | 198/292 [40:48<25:44, 16.43s/file]"
     ]
    },
    {
     "name": "stdout",
     "output_type": "stream",
     "text": [
      "added P00232.tsv (577322.1 KB) - Total: 97242491.7 KB\n"
     ]
    },
    {
     "name": "stderr",
     "output_type": "stream",
     "text": [
      "Copying files:  68%|██████▊   | 199/292 [41:01<23:58, 15.47s/file]"
     ]
    },
    {
     "name": "stdout",
     "output_type": "stream",
     "text": [
      "added P00017.tsv (708427.3 KB) - Total: 97950918.9 KB\n"
     ]
    },
    {
     "name": "stderr",
     "output_type": "stream",
     "text": [
      "Copying files:  68%|██████▊   | 200/292 [41:07<19:17, 12.59s/file]"
     ]
    },
    {
     "name": "stdout",
     "output_type": "stream",
     "text": [
      "added P00073.tsv (250060.2 KB) - Total: 98200979.1 KB\n"
     ]
    },
    {
     "name": "stderr",
     "output_type": "stream",
     "text": [
      "Copying files:  69%|██████▉   | 201/292 [41:13<15:53, 10.48s/file]"
     ]
    },
    {
     "name": "stdout",
     "output_type": "stream",
     "text": [
      "added P00072.tsv (346261.2 KB) - Total: 98547240.3 KB\n"
     ]
    },
    {
     "name": "stderr",
     "output_type": "stream",
     "text": [
      "Copying files:  69%|██████▉   | 202/292 [41:23<15:37, 10.42s/file]"
     ]
    },
    {
     "name": "stdout",
     "output_type": "stream",
     "text": [
      "added P00193.tsv (671659.0 KB) - Total: 99218899.3 KB\n"
     ]
    },
    {
     "name": "stderr",
     "output_type": "stream",
     "text": [
      "Copying files:  70%|██████▉   | 203/292 [41:34<15:37, 10.53s/file]"
     ]
    },
    {
     "name": "stdout",
     "output_type": "stream",
     "text": [
      "added P00044.tsv (590400.1 KB) - Total: 99809299.4 KB\n"
     ]
    },
    {
     "name": "stderr",
     "output_type": "stream",
     "text": [
      "Copying files:  70%|██████▉   | 204/292 [41:54<19:35, 13.35s/file]"
     ]
    },
    {
     "name": "stdout",
     "output_type": "stream",
     "text": [
      "added P00004.tsv (571483.8 KB) - Total: 100380783.2 KB\n"
     ]
    },
    {
     "name": "stderr",
     "output_type": "stream",
     "text": [
      "Copying files:  70%|███████   | 205/292 [41:59<15:44, 10.85s/file]"
     ]
    },
    {
     "name": "stdout",
     "output_type": "stream",
     "text": [
      "added P00203.tsv (171554.2 KB) - Total: 100552337.4 KB\n"
     ]
    },
    {
     "name": "stderr",
     "output_type": "stream",
     "text": [
      "Copying files:  71%|███████   | 206/292 [42:15<17:54, 12.50s/file]"
     ]
    },
    {
     "name": "stdout",
     "output_type": "stream",
     "text": [
      "added P00163.tsv (400197.0 KB) - Total: 100952534.4 KB\n"
     ]
    },
    {
     "name": "stderr",
     "output_type": "stream",
     "text": [
      "Copying files:  71%|███████   | 207/292 [42:26<16:49, 11.88s/file]"
     ]
    },
    {
     "name": "stdout",
     "output_type": "stream",
     "text": [
      "added P00196.tsv (426218.0 KB) - Total: 101378752.4 KB\n"
     ]
    },
    {
     "name": "stderr",
     "output_type": "stream",
     "text": [
      "Copying files:  71%|███████   | 208/292 [42:38<16:55, 12.08s/file]"
     ]
    },
    {
     "name": "stdout",
     "output_type": "stream",
     "text": [
      "added P00079.tsv (516872.4 KB) - Total: 101895624.8 KB\n"
     ]
    },
    {
     "name": "stderr",
     "output_type": "stream",
     "text": [
      "Copying files:  72%|███████▏  | 209/292 [42:54<18:18, 13.24s/file]"
     ]
    },
    {
     "name": "stdout",
     "output_type": "stream",
     "text": [
      "added P00138.tsv (536660.1 KB) - Total: 102432284.9 KB\n"
     ]
    },
    {
     "name": "stderr",
     "output_type": "stream",
     "text": [
      "Copying files:  72%|███████▏  | 210/292 [43:30<27:11, 19.89s/file]"
     ]
    },
    {
     "name": "stdout",
     "output_type": "stream",
     "text": [
      "added P00112.tsv (921318.1 KB) - Total: 103353603.0 KB\n"
     ]
    },
    {
     "name": "stderr",
     "output_type": "stream",
     "text": [
      "Copying files:  72%|███████▏  | 211/292 [43:44<24:46, 18.36s/file]"
     ]
    },
    {
     "name": "stdout",
     "output_type": "stream",
     "text": [
      "added P00385.tsv (474752.8 KB) - Total: 103828355.8 KB\n"
     ]
    },
    {
     "name": "stderr",
     "output_type": "stream",
     "text": [
      "Copying files:  73%|███████▎  | 212/292 [43:54<21:08, 15.86s/file]"
     ]
    },
    {
     "name": "stdout",
     "output_type": "stream",
     "text": [
      "added P00291.tsv (499890.4 KB) - Total: 104328246.2 KB\n"
     ]
    },
    {
     "name": "stderr",
     "output_type": "stream",
     "text": [
      "Copying files:  73%|███████▎  | 213/292 [44:05<18:49, 14.30s/file]"
     ]
    },
    {
     "name": "stdout",
     "output_type": "stream",
     "text": [
      "added P00077.tsv (389586.7 KB) - Total: 104717833.0 KB\n"
     ]
    },
    {
     "name": "stderr",
     "output_type": "stream",
     "text": [
      "Copying files:  73%|███████▎  | 214/292 [44:19<18:20, 14.10s/file]"
     ]
    },
    {
     "name": "stdout",
     "output_type": "stream",
     "text": [
      "added P00330.tsv (680887.7 KB) - Total: 105398720.7 KB\n"
     ]
    },
    {
     "name": "stderr",
     "output_type": "stream",
     "text": [
      "Copying files:  74%|███████▎  | 215/292 [44:40<20:45, 16.18s/file]"
     ]
    },
    {
     "name": "stdout",
     "output_type": "stream",
     "text": [
      "added P00298.tsv (509538.0 KB) - Total: 105908258.7 KB\n"
     ]
    },
    {
     "name": "stderr",
     "output_type": "stream",
     "text": [
      "Copying files:  74%|███████▍  | 216/292 [44:50<18:10, 14.35s/file]"
     ]
    },
    {
     "name": "stdout",
     "output_type": "stream",
     "text": [
      "added P00306.tsv (429136.4 KB) - Total: 106337395.1 KB\n"
     ]
    },
    {
     "name": "stderr",
     "output_type": "stream",
     "text": [
      "Copying files:  74%|███████▍  | 217/292 [45:02<17:00, 13.61s/file]"
     ]
    },
    {
     "name": "stdout",
     "output_type": "stream",
     "text": [
      "added P00182.tsv (753663.0 KB) - Total: 107091058.1 KB\n"
     ]
    },
    {
     "name": "stderr",
     "output_type": "stream",
     "text": [
      "Copying files:  75%|███████▍  | 218/292 [45:14<16:09, 13.10s/file]"
     ]
    },
    {
     "name": "stdout",
     "output_type": "stream",
     "text": [
      "added P00366.tsv (613388.8 KB) - Total: 107704446.9 KB\n"
     ]
    },
    {
     "name": "stderr",
     "output_type": "stream",
     "text": [
      "Copying files:  75%|███████▌  | 219/292 [45:18<12:51, 10.57s/file]"
     ]
    },
    {
     "name": "stdout",
     "output_type": "stream",
     "text": [
      "added P00097.tsv (253474.6 KB) - Total: 107957921.5 KB\n"
     ]
    },
    {
     "name": "stderr",
     "output_type": "stream",
     "text": [
      "Copying files:  75%|███████▌  | 220/292 [45:42<17:28, 14.56s/file]"
     ]
    },
    {
     "name": "stdout",
     "output_type": "stream",
     "text": [
      "added P00170.tsv (912230.8 KB) - Total: 108870152.3 KB\n"
     ]
    },
    {
     "name": "stderr",
     "output_type": "stream",
     "text": [
      "Copying files:  76%|███████▌  | 221/292 [45:58<17:44, 15.00s/file]"
     ]
    },
    {
     "name": "stdout",
     "output_type": "stream",
     "text": [
      "added P00173.tsv (588163.3 KB) - Total: 109458315.6 KB\n"
     ]
    },
    {
     "name": "stderr",
     "output_type": "stream",
     "text": [
      "Copying files:  76%|███████▌  | 222/292 [46:05<14:48, 12.69s/file]"
     ]
    },
    {
     "name": "stdout",
     "output_type": "stream",
     "text": [
      "added P00065.tsv (430999.5 KB) - Total: 109889315.1 KB\n"
     ]
    },
    {
     "name": "stderr",
     "output_type": "stream",
     "text": [
      "Copying files:  76%|███████▋  | 223/292 [46:14<13:18, 11.57s/file]"
     ]
    },
    {
     "name": "stdout",
     "output_type": "stream",
     "text": [
      "added P00054.tsv (486621.7 KB) - Total: 110375936.8 KB\n"
     ]
    },
    {
     "name": "stderr",
     "output_type": "stream",
     "text": [
      "Copying files:  77%|███████▋  | 224/292 [46:27<13:35, 11.99s/file]"
     ]
    },
    {
     "name": "stdout",
     "output_type": "stream",
     "text": [
      "added P00372.tsv (496898.9 KB) - Total: 110872835.7 KB\n"
     ]
    },
    {
     "name": "stderr",
     "output_type": "stream",
     "text": [
      "Copying files:  77%|███████▋  | 225/292 [46:35<11:56, 10.69s/file]"
     ]
    },
    {
     "name": "stdout",
     "output_type": "stream",
     "text": [
      "added P00327.tsv (268454.9 KB) - Total: 111141290.6 KB\n"
     ]
    },
    {
     "name": "stderr",
     "output_type": "stream",
     "text": [
      "Copying files:  77%|███████▋  | 226/292 [46:46<12:00, 10.91s/file]"
     ]
    },
    {
     "name": "stdout",
     "output_type": "stream",
     "text": [
      "added P00067.tsv (680769.9 KB) - Total: 111822060.5 KB\n"
     ]
    },
    {
     "name": "stderr",
     "output_type": "stream",
     "text": [
      "Copying files:  78%|███████▊  | 227/292 [46:52<10:12,  9.42s/file]"
     ]
    },
    {
     "name": "stdout",
     "output_type": "stream",
     "text": [
      "added P00414.tsv (369496.2 KB) - Total: 112191556.6 KB\n"
     ]
    },
    {
     "name": "stderr",
     "output_type": "stream",
     "text": [
      "Copying files:  78%|███████▊  | 228/292 [47:27<17:57, 16.84s/file]"
     ]
    },
    {
     "name": "stdout",
     "output_type": "stream",
     "text": [
      "added P00421.tsv (1140708.8 KB) - Total: 113332265.5 KB\n"
     ]
    },
    {
     "name": "stderr",
     "output_type": "stream",
     "text": [
      "Copying files:  78%|███████▊  | 229/292 [47:43<17:30, 16.67s/file]"
     ]
    },
    {
     "name": "stdout",
     "output_type": "stream",
     "text": [
      "added P00198.tsv (720632.6 KB) - Total: 114052898.1 KB\n"
     ]
    },
    {
     "name": "stderr",
     "output_type": "stream",
     "text": [
      "Copying files:  79%|███████▉  | 230/292 [47:52<15:01, 14.55s/file]"
     ]
    },
    {
     "name": "stdout",
     "output_type": "stream",
     "text": [
      "added P00482.tsv (467622.2 KB) - Total: 114520520.3 KB\n"
     ]
    },
    {
     "name": "stderr",
     "output_type": "stream",
     "text": [
      "Copying files:  79%|███████▉  | 231/292 [48:06<14:37, 14.39s/file]"
     ]
    },
    {
     "name": "stdout",
     "output_type": "stream",
     "text": [
      "added P00217.tsv (590327.3 KB) - Total: 115110847.6 KB\n"
     ]
    },
    {
     "name": "stderr",
     "output_type": "stream",
     "text": [
      "Copying files:  79%|███████▉  | 232/292 [48:16<12:54, 12.91s/file]"
     ]
    },
    {
     "name": "stdout",
     "output_type": "stream",
     "text": [
      "added P00253.tsv (551453.6 KB) - Total: 115662301.2 KB\n"
     ]
    },
    {
     "name": "stderr",
     "output_type": "stream",
     "text": [
      "Copying files:  80%|███████▉  | 233/292 [48:22<10:50, 11.02s/file]"
     ]
    },
    {
     "name": "stdout",
     "output_type": "stream",
     "text": [
      "added P00200.tsv (315153.3 KB) - Total: 115977454.5 KB\n"
     ]
    },
    {
     "name": "stderr",
     "output_type": "stream",
     "text": [
      "Copying files:  80%|████████  | 234/292 [48:38<12:03, 12.48s/file]"
     ]
    },
    {
     "name": "stdout",
     "output_type": "stream",
     "text": [
      "added P00423.tsv (731990.9 KB) - Total: 116709445.4 KB\n"
     ]
    },
    {
     "name": "stderr",
     "output_type": "stream",
     "text": [
      "Copying files:  80%|████████  | 235/292 [49:07<16:32, 17.42s/file]"
     ]
    },
    {
     "name": "stdout",
     "output_type": "stream",
     "text": [
      "added P00433.tsv (643673.9 KB) - Total: 117353119.3 KB\n"
     ]
    },
    {
     "name": "stderr",
     "output_type": "stream",
     "text": [
      "Copying files:  81%|████████  | 236/292 [49:20<14:49, 15.88s/file]"
     ]
    },
    {
     "name": "stdout",
     "output_type": "stream",
     "text": [
      "added P00292.tsv (570080.5 KB) - Total: 117923199.8 KB\n"
     ]
    },
    {
     "name": "stderr",
     "output_type": "stream",
     "text": [
      "Copying files:  81%|████████  | 237/292 [49:44<16:48, 18.34s/file]"
     ]
    },
    {
     "name": "stdout",
     "output_type": "stream",
     "text": [
      "added P00607.tsv (1067048.0 KB) - Total: 118990247.8 KB\n"
     ]
    },
    {
     "name": "stderr",
     "output_type": "stream",
     "text": [
      "Copying files:  82%|████████▏ | 238/292 [50:12<19:16, 21.41s/file]"
     ]
    },
    {
     "name": "stdout",
     "output_type": "stream",
     "text": [
      "added P00317.tsv (683997.9 KB) - Total: 119674245.6 KB\n"
     ]
    },
    {
     "name": "stderr",
     "output_type": "stream",
     "text": [
      "Copying files:  82%|████████▏ | 239/292 [50:21<15:34, 17.64s/file]"
     ]
    },
    {
     "name": "stdout",
     "output_type": "stream",
     "text": [
      "added P00407.tsv (350224.6 KB) - Total: 120024470.3 KB\n"
     ]
    },
    {
     "name": "stderr",
     "output_type": "stream",
     "text": [
      "Copying files:  82%|████████▏ | 240/292 [50:33<13:41, 15.80s/file]"
     ]
    },
    {
     "name": "stdout",
     "output_type": "stream",
     "text": [
      "added P00452.tsv (573083.8 KB) - Total: 120597554.1 KB\n"
     ]
    },
    {
     "name": "stderr",
     "output_type": "stream",
     "text": [
      "Copying files:  83%|████████▎ | 241/292 [50:46<12:46, 15.03s/file]"
     ]
    },
    {
     "name": "stdout",
     "output_type": "stream",
     "text": [
      "added P00602.tsv (673422.0 KB) - Total: 121270976.0 KB\n"
     ]
    },
    {
     "name": "stderr",
     "output_type": "stream",
     "text": [
      "Copying files:  83%|████████▎ | 242/292 [51:01<12:33, 15.07s/file]"
     ]
    },
    {
     "name": "stdout",
     "output_type": "stream",
     "text": [
      "added P00652.tsv (740629.5 KB) - Total: 122011605.6 KB\n"
     ]
    },
    {
     "name": "stderr",
     "output_type": "stream",
     "text": [
      "Copying files:  83%|████████▎ | 243/292 [51:19<12:55, 15.83s/file]"
     ]
    },
    {
     "name": "stdout",
     "output_type": "stream",
     "text": [
      "added P00304.tsv (779032.4 KB) - Total: 122790638.0 KB\n"
     ]
    },
    {
     "name": "stderr",
     "output_type": "stream",
     "text": [
      "Copying files:  84%|████████▎ | 244/292 [51:28<11:10, 13.96s/file]"
     ]
    },
    {
     "name": "stdout",
     "output_type": "stream",
     "text": [
      "added P00287.tsv (557437.3 KB) - Total: 123348075.2 KB\n"
     ]
    },
    {
     "name": "stderr",
     "output_type": "stream",
     "text": [
      "Copying files:  84%|████████▍ | 245/292 [51:38<09:54, 12.64s/file]"
     ]
    },
    {
     "name": "stdout",
     "output_type": "stream",
     "text": [
      "added P00656.tsv (556110.4 KB) - Total: 123904185.7 KB\n"
     ]
    },
    {
     "name": "stderr",
     "output_type": "stream",
     "text": [
      "Copying files:  84%|████████▍ | 246/292 [51:49<09:18, 12.13s/file]"
     ]
    },
    {
     "name": "stdout",
     "output_type": "stream",
     "text": [
      "added P00357.tsv (580574.3 KB) - Total: 124484760.0 KB\n"
     ]
    },
    {
     "name": "stderr",
     "output_type": "stream",
     "text": [
      "Copying files:  85%|████████▍ | 247/292 [51:57<08:20, 11.11s/file]"
     ]
    },
    {
     "name": "stdout",
     "output_type": "stream",
     "text": [
      "added P00525.tsv (456456.2 KB) - Total: 124941216.2 KB\n"
     ]
    },
    {
     "name": "stderr",
     "output_type": "stream",
     "text": [
      "Copying files:  85%|████████▍ | 248/292 [52:03<06:57,  9.49s/file]"
     ]
    },
    {
     "name": "stdout",
     "output_type": "stream",
     "text": [
      "added P00343.tsv (323562.7 KB) - Total: 125264778.9 KB\n"
     ]
    },
    {
     "name": "stderr",
     "output_type": "stream",
     "text": [
      "Copying files:  85%|████████▌ | 249/292 [52:05<05:15,  7.35s/file]"
     ]
    },
    {
     "name": "stdout",
     "output_type": "stream",
     "text": [
      "added P00665.tsv (138695.4 KB) - Total: 125403474.3 KB\n"
     ]
    },
    {
     "name": "stderr",
     "output_type": "stream",
     "text": [
      "Copying files:  86%|████████▌ | 250/292 [52:12<04:57,  7.09s/file]"
     ]
    },
    {
     "name": "stdout",
     "output_type": "stream",
     "text": [
      "added P00502.tsv (432132.9 KB) - Total: 125835607.2 KB\n"
     ]
    },
    {
     "name": "stderr",
     "output_type": "stream",
     "text": [
      "Copying files:  86%|████████▌ | 251/292 [52:19<04:52,  7.14s/file]"
     ]
    },
    {
     "name": "stdout",
     "output_type": "stream",
     "text": [
      "added P00527.tsv (284005.5 KB) - Total: 126119612.7 KB\n"
     ]
    },
    {
     "name": "stderr",
     "output_type": "stream",
     "text": [
      "Copying files:  86%|████████▋ | 252/292 [52:27<04:54,  7.37s/file]"
     ]
    },
    {
     "name": "stdout",
     "output_type": "stream",
     "text": [
      "added P00609.tsv (371346.4 KB) - Total: 126490959.0 KB\n"
     ]
    },
    {
     "name": "stderr",
     "output_type": "stream",
     "text": [
      "Copying files:  87%|████████▋ | 253/292 [52:36<05:08,  7.91s/file]"
     ]
    },
    {
     "name": "stdout",
     "output_type": "stream",
     "text": [
      "added P00491.tsv (442979.0 KB) - Total: 126933938.0 KB\n"
     ]
    },
    {
     "name": "stderr",
     "output_type": "stream",
     "text": [
      "Copying files:  87%|████████▋ | 254/292 [52:45<05:04,  8.01s/file]"
     ]
    },
    {
     "name": "stdout",
     "output_type": "stream",
     "text": [
      "added P00448.tsv (411700.6 KB) - Total: 127345638.6 KB\n"
     ]
    },
    {
     "name": "stderr",
     "output_type": "stream",
     "text": [
      "Copying files:  87%|████████▋ | 255/292 [53:13<08:41, 14.10s/file]"
     ]
    },
    {
     "name": "stdout",
     "output_type": "stream",
     "text": [
      "added P00639.tsv (719640.7 KB) - Total: 128065279.3 KB\n"
     ]
    },
    {
     "name": "stderr",
     "output_type": "stream",
     "text": [
      "Copying files:  88%|████████▊ | 256/292 [53:22<07:28, 12.46s/file]"
     ]
    },
    {
     "name": "stdout",
     "output_type": "stream",
     "text": [
      "added P00509.tsv (363553.5 KB) - Total: 128428832.8 KB\n"
     ]
    },
    {
     "name": "stderr",
     "output_type": "stream",
     "text": [
      "Copying files:  88%|████████▊ | 257/292 [53:35<07:21, 12.63s/file]"
     ]
    },
    {
     "name": "stdout",
     "output_type": "stream",
     "text": [
      "added P00398.tsv (552523.5 KB) - Total: 128981356.3 KB\n"
     ]
    },
    {
     "name": "stderr",
     "output_type": "stream",
     "text": [
      "Copying files:  88%|████████▊ | 258/292 [54:07<10:35, 18.68s/file]"
     ]
    },
    {
     "name": "stdout",
     "output_type": "stream",
     "text": [
      "added P00399.tsv (852105.9 KB) - Total: 129833462.2 KB\n"
     ]
    },
    {
     "name": "stderr",
     "output_type": "stream",
     "text": [
      "Copying files:  89%|████████▊ | 259/292 [54:21<09:29, 17.24s/file]"
     ]
    },
    {
     "name": "stdout",
     "output_type": "stream",
     "text": [
      "added P00662.tsv (563211.1 KB) - Total: 130396673.3 KB\n"
     ]
    },
    {
     "name": "stderr",
     "output_type": "stream",
     "text": [
      "Copying files:  89%|████████▉ | 260/292 [54:30<07:47, 14.60s/file]"
     ]
    },
    {
     "name": "stdout",
     "output_type": "stream",
     "text": [
      "added P00144.tsv (445116.4 KB) - Total: 130841789.7 KB\n"
     ]
    },
    {
     "name": "stderr",
     "output_type": "stream",
     "text": [
      "Copying files:  89%|████████▉ | 261/292 [54:41<07:03, 13.66s/file]"
     ]
    },
    {
     "name": "stdout",
     "output_type": "stream",
     "text": [
      "added P00284.tsv (610232.5 KB) - Total: 131452022.2 KB\n"
     ]
    },
    {
     "name": "stderr",
     "output_type": "stream",
     "text": [
      "Copying files:  90%|████████▉ | 262/292 [55:07<08:43, 17.46s/file]"
     ]
    },
    {
     "name": "stdout",
     "output_type": "stream",
     "text": [
      "added P00406.tsv (849400.1 KB) - Total: 132301422.3 KB\n"
     ]
    },
    {
     "name": "stderr",
     "output_type": "stream",
     "text": [
      "Copying files:  90%|█████████ | 263/292 [55:24<08:17, 17.14s/file]"
     ]
    },
    {
     "name": "stdout",
     "output_type": "stream",
     "text": [
      "added P00310.tsv (618841.3 KB) - Total: 132920263.7 KB\n"
     ]
    },
    {
     "name": "stderr",
     "output_type": "stream",
     "text": [
      "Copying files:  90%|█████████ | 264/292 [55:34<07:03, 15.14s/file]"
     ]
    },
    {
     "name": "stdout",
     "output_type": "stream",
     "text": [
      "added P00526.tsv (591579.4 KB) - Total: 133511843.0 KB\n"
     ]
    },
    {
     "name": "stderr",
     "output_type": "stream",
     "text": [
      "Copying files:  91%|█████████ | 265/292 [55:38<05:12, 11.56s/file]"
     ]
    },
    {
     "name": "stdout",
     "output_type": "stream",
     "text": [
      "added P00507.tsv (190662.9 KB) - Total: 133702505.9 KB\n"
     ]
    },
    {
     "name": "stderr",
     "output_type": "stream",
     "text": [
      "Copying files:  91%|█████████ | 266/292 [55:51<05:12, 12.02s/file]"
     ]
    },
    {
     "name": "stdout",
     "output_type": "stream",
     "text": [
      "added P00569.tsv (752389.6 KB) - Total: 134454895.5 KB\n"
     ]
    },
    {
     "name": "stderr",
     "output_type": "stream",
     "text": [
      "Copying files:  91%|█████████▏| 267/292 [56:09<05:49, 13.96s/file]"
     ]
    },
    {
     "name": "stdout",
     "output_type": "stream",
     "text": [
      "added P00379.tsv (720254.6 KB) - Total: 135175150.1 KB\n"
     ]
    },
    {
     "name": "stderr",
     "output_type": "stream",
     "text": [
      "Copying files:  92%|█████████▏| 268/292 [56:25<05:52, 14.68s/file]"
     ]
    },
    {
     "name": "stdout",
     "output_type": "stream",
     "text": [
      "added P00653.tsv (609149.1 KB) - Total: 135784299.2 KB\n"
     ]
    },
    {
     "name": "stderr",
     "output_type": "stream",
     "text": [
      "Copying files:  92%|█████████▏| 269/292 [56:51<06:54, 18.03s/file]"
     ]
    },
    {
     "name": "stdout",
     "output_type": "stream",
     "text": [
      "added P00621.tsv (747292.8 KB) - Total: 136531591.9 KB\n"
     ]
    },
    {
     "name": "stderr",
     "output_type": "stream",
     "text": [
      "Copying files:  92%|█████████▏| 270/292 [57:03<05:52, 16.02s/file]"
     ]
    },
    {
     "name": "stdout",
     "output_type": "stream",
     "text": [
      "added P00548.tsv (411597.9 KB) - Total: 136943189.8 KB\n"
     ]
    },
    {
     "name": "stderr",
     "output_type": "stream",
     "text": [
      "Copying files:  93%|█████████▎| 271/292 [57:18<05:31, 15.78s/file]"
     ]
    },
    {
     "name": "stdout",
     "output_type": "stream",
     "text": [
      "added P00342.tsv (732349.7 KB) - Total: 137675539.5 KB\n"
     ]
    },
    {
     "name": "stderr",
     "output_type": "stream",
     "text": [
      "Copying files:  93%|█████████▎| 272/292 [57:31<04:59, 14.97s/file]"
     ]
    },
    {
     "name": "stdout",
     "output_type": "stream",
     "text": [
      "added P00642.tsv (494481.2 KB) - Total: 138170020.8 KB\n"
     ]
    },
    {
     "name": "stderr",
     "output_type": "stream",
     "text": [
      "Copying files:  93%|█████████▎| 273/292 [57:35<03:43, 11.75s/file]"
     ]
    },
    {
     "name": "stdout",
     "output_type": "stream",
     "text": [
      "added P00534.tsv (155025.9 KB) - Total: 138325046.7 KB\n"
     ]
    },
    {
     "name": "stderr",
     "output_type": "stream",
     "text": [
      "Copying files:  94%|█████████▍| 274/292 [57:47<03:30, 11.70s/file]"
     ]
    },
    {
     "name": "stdout",
     "output_type": "stream",
     "text": [
      "added P00403.tsv (412719.9 KB) - Total: 138737766.6 KB\n"
     ]
    },
    {
     "name": "stderr",
     "output_type": "stream",
     "text": [
      "Copying files:  94%|█████████▍| 275/292 [58:14<04:36, 16.29s/file]"
     ]
    },
    {
     "name": "stdout",
     "output_type": "stream",
     "text": [
      "added P00549.tsv (828263.4 KB) - Total: 139566030.0 KB\n"
     ]
    },
    {
     "name": "stderr",
     "output_type": "stream",
     "text": [
      "Copying files:  95%|█████████▍| 276/292 [58:22<03:44, 14.02s/file]"
     ]
    },
    {
     "name": "stdout",
     "output_type": "stream",
     "text": [
      "added P00500.tsv (480387.6 KB) - Total: 140046417.6 KB\n"
     ]
    },
    {
     "name": "stderr",
     "output_type": "stream",
     "text": [
      "Copying files:  95%|█████████▍| 277/292 [58:44<04:02, 16.18s/file]"
     ]
    },
    {
     "name": "stdout",
     "output_type": "stream",
     "text": [
      "added P00392.tsv (804280.7 KB) - Total: 140850698.3 KB\n"
     ]
    },
    {
     "name": "stderr",
     "output_type": "stream",
     "text": [
      "Copying files:  95%|█████████▌| 278/292 [58:50<03:03, 13.14s/file]"
     ]
    },
    {
     "name": "stdout",
     "output_type": "stream",
     "text": [
      "added P00049.tsv (188906.8 KB) - Total: 141039605.2 KB\n"
     ]
    },
    {
     "name": "stderr",
     "output_type": "stream",
     "text": [
      "Copying files:  96%|█████████▌| 279/292 [58:53<02:12, 10.16s/file]"
     ]
    },
    {
     "name": "stdout",
     "output_type": "stream",
     "text": [
      "added P00590.tsv (161127.6 KB) - Total: 141200732.7 KB\n"
     ]
    },
    {
     "name": "stderr",
     "output_type": "stream",
     "text": [
      "Copying files:  96%|█████████▌| 280/292 [59:08<02:18, 11.58s/file]"
     ]
    },
    {
     "name": "stdout",
     "output_type": "stream",
     "text": [
      "added P00504.tsv (562036.7 KB) - Total: 141762769.4 KB\n"
     ]
    },
    {
     "name": "stderr",
     "output_type": "stream",
     "text": [
      "Copying files:  96%|█████████▌| 281/292 [59:15<01:53, 10.34s/file]"
     ]
    },
    {
     "name": "stdout",
     "output_type": "stream",
     "text": [
      "added P00483.tsv (228989.9 KB) - Total: 141991759.3 KB\n"
     ]
    },
    {
     "name": "stderr",
     "output_type": "stream",
     "text": [
      "Copying files:  97%|█████████▋| 282/292 [59:25<01:41, 10.12s/file]"
     ]
    },
    {
     "name": "stdout",
     "output_type": "stream",
     "text": [
      "added P00523.tsv (443902.2 KB) - Total: 142435661.4 KB\n"
     ]
    },
    {
     "name": "stderr",
     "output_type": "stream",
     "text": [
      "Copying files:  97%|█████████▋| 283/292 [59:31<01:19,  8.88s/file]"
     ]
    },
    {
     "name": "stdout",
     "output_type": "stream",
     "text": [
      "added P00461.tsv (334185.4 KB) - Total: 142769846.9 KB\n"
     ]
    },
    {
     "name": "stderr",
     "output_type": "stream",
     "text": [
      "Copying files:  97%|█████████▋| 284/292 [59:44<01:20, 10.11s/file]"
     ]
    },
    {
     "name": "stdout",
     "output_type": "stream",
     "text": [
      "added P00214.tsv (562860.6 KB) - Total: 143332707.5 KB\n"
     ]
    },
    {
     "name": "stderr",
     "output_type": "stream",
     "text": [
      "Copying files:  98%|█████████▊| 285/292 [1:00:04<01:31, 13.02s/file]"
     ]
    },
    {
     "name": "stdout",
     "output_type": "stream",
     "text": [
      "added P00460.tsv (574040.4 KB) - Total: 143906747.9 KB\n"
     ]
    },
    {
     "name": "stderr",
     "output_type": "stream",
     "text": [
      "Copying files:  98%|█████████▊| 286/292 [1:00:12<01:09, 11.54s/file]"
     ]
    },
    {
     "name": "stdout",
     "output_type": "stream",
     "text": [
      "added P00493.tsv (255771.6 KB) - Total: 144162519.5 KB\n"
     ]
    },
    {
     "name": "stderr",
     "output_type": "stream",
     "text": [
      "Copying files:  98%|█████████▊| 287/292 [1:00:22<00:56, 11.28s/file]"
     ]
    },
    {
     "name": "stdout",
     "output_type": "stream",
     "text": [
      "added P00614.tsv (525395.3 KB) - Total: 144687914.8 KB\n"
     ]
    },
    {
     "name": "stderr",
     "output_type": "stream",
     "text": [
      "Copying files:  99%|█████████▊| 288/292 [1:00:42<00:54, 13.64s/file]"
     ]
    },
    {
     "name": "stdout",
     "output_type": "stream",
     "text": [
      "added P00518.tsv (460769.1 KB) - Total: 145148683.9 KB\n"
     ]
    },
    {
     "name": "stderr",
     "output_type": "stream",
     "text": [
      "Copying files:  99%|█████████▉| 289/292 [1:00:53<00:38, 12.95s/file]"
     ]
    },
    {
     "name": "stdout",
     "output_type": "stream",
     "text": [
      "added P00132.tsv (334172.9 KB) - Total: 145482856.8 KB\n"
     ]
    },
    {
     "name": "stderr",
     "output_type": "stream",
     "text": [
      "Copying files:  99%|█████████▉| 290/292 [1:00:57<00:20, 10.23s/file]"
     ]
    },
    {
     "name": "stdout",
     "output_type": "stream",
     "text": [
      "added P00471.tsv (162304.4 KB) - Total: 145645161.2 KB\n"
     ]
    },
    {
     "name": "stderr",
     "output_type": "stream",
     "text": [
      "Copying files: 100%|█████████▉| 291/292 [1:01:04<00:09,  9.27s/file]"
     ]
    },
    {
     "name": "stdout",
     "output_type": "stream",
     "text": [
      "added P00133.tsv (303514.6 KB) - Total: 145948675.8 KB\n"
     ]
    },
    {
     "name": "stderr",
     "output_type": "stream",
     "text": [
      "Copying files: 100%|██████████| 292/292 [1:01:07<00:00, 12.56s/file]"
     ]
    },
    {
     "name": "stdout",
     "output_type": "stream",
     "text": [
      "added P00289.tsv (182271.8 KB) - Total: 146130947.6 KB\n"
     ]
    },
    {
     "name": "stderr",
     "output_type": "stream",
     "text": [
      "\n"
     ]
    }
   ],
   "source": [
    "import os \n",
    "# Set wd to the hard drive\n",
    "os.chdir(\"/Volumes/IshaVerbat/Isha/TCR\")\n",
    "\n",
    "# New zip with selected files\n",
    "\n",
    "import zipfile\n",
    "from tqdm import tqdm\n",
    "\n",
    "source_zip = 'emerson-2017-natgen.zip'\n",
    "output_zip = 'HLA-A02-emerson-2017-natgen.zip'\n",
    "\n",
    "total_written=0\n",
    "\n",
    "with zipfile.ZipFile(source_zip, 'r') as zin:\n",
    "    with zipfile.ZipFile(output_zip, 'w', compression=zipfile.ZIP_DEFLATED) as zout:\n",
    "        for file in tqdm(patient_id_list, desc=\"Copying files\", unit=\"file\"):\n",
    "            try:\n",
    "                data = zin.read(file)\n",
    "                zout.writestr(file, data)\n",
    "                total_written += len(data)\n",
    "                print(f\"added {file} ({len(data)/1024:.1f} KB) - Total: {total_written/1024:.1f} KB\")\n",
    "            except KeyError:\n",
    "                print(f\"File not found in zip: {file}\")\n",
    "\n"
   ]
  }
 ],
 "metadata": {
  "kernelspec": {
   "display_name": "Python (tcr_env)",
   "language": "python",
   "name": "tcr_env"
  },
  "language_info": {
   "codemirror_mode": {
    "name": "ipython",
    "version": 3
   },
   "file_extension": ".py",
   "mimetype": "text/x-python",
   "name": "python",
   "nbconvert_exporter": "python",
   "pygments_lexer": "ipython3",
   "version": "3.11.11"
  }
 },
 "nbformat": 4,
 "nbformat_minor": 2
}
