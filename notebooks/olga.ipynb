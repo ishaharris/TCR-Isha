{
 "cells": [
  {
   "cell_type": "markdown",
   "id": "446f736f",
   "metadata": {},
   "source": [
    "# Generate 100 random seqs using olga"
   ]
  },
  {
   "cell_type": "code",
   "execution_count": 1,
   "id": "a326c763",
   "metadata": {},
   "outputs": [
    {
     "name": "stdout",
     "output_type": "stream",
     "text": [
      "Saved 100 sequences to: /Users/ishaharris/Projects/TCR/TCR-Isha/data/High_Confidence_CMV_TCR/olga_random.tsv\n"
     ]
    }
   ],
   "source": [
    "# If needed:\n",
    "# pip install olga pandas\n",
    "\n",
    "import os\n",
    "import pandas as pd\n",
    "\n",
    "from olga.load_model import GenomicDataVDJ, GenerativeModelVDJ\n",
    "from olga.generation_probability import GenerationProbabilityVDJ\n",
    "from olga.sequence_generation import SequenceGenerationVDJ\n",
    "\n",
    "# ---------- Config ----------\n",
    "N = 100\n",
    "out_dir = \"/Users/ishaharris/Projects/TCR/TCR-Isha/data/High_Confidence_CMV_TCR\"\n",
    "out_path = os.path.join(out_dir, \"olga_random.tsv\")\n",
    "\n",
    "# ---------- Locate packaged human TRB model ----------\n",
    "try:\n",
    "    from importlib.resources import files\n",
    "    model_dir = str(files(\"olga\") / \"default_models\" / \"human_T_beta\")\n",
    "except Exception:\n",
    "    import olga as _olga\n",
    "    model_dir = os.path.join(os.path.dirname(_olga.__file__), \"default_models\", \"human_T_beta\")\n",
    "\n",
    "def pick_anchor(model_dir: str, basename: str) -> str:\n",
    "    \"\"\"Return existing anchor path (.csv preferred, else .txt).\"\"\"\n",
    "    csv_path = os.path.join(model_dir, f\"{basename}.csv\")\n",
    "    txt_path = os.path.join(model_dir, f\"{basename}.txt\")\n",
    "    if os.path.exists(csv_path):\n",
    "        return csv_path\n",
    "    if os.path.exists(txt_path):\n",
    "        return txt_path\n",
    "    raise FileNotFoundError(\n",
    "        f\"Missing anchors: {basename}.csv/.txt not found in {model_dir}. \"\n",
    "        f\"Found: {sorted(os.listdir(model_dir))}\"\n",
    "    )\n",
    "\n",
    "params_file     = os.path.join(model_dir, \"model_params.txt\")\n",
    "marginals_file  = os.path.join(model_dir, \"model_marginals.txt\")\n",
    "V_anchor_file   = pick_anchor(model_dir, \"V_gene_CDR3_anchors\")\n",
    "J_anchor_file   = pick_anchor(model_dir, \"J_gene_CDR3_anchors\")\n",
    "\n",
    "# ---------- Load OLGA model/data ----------\n",
    "genomic_data = GenomicDataVDJ()\n",
    "genomic_data.load_igor_genomic_data(params_file, V_anchor_file, J_anchor_file)\n",
    "\n",
    "generative_model = GenerativeModelVDJ()\n",
    "generative_model.load_and_process_igor_model(marginals_file)\n",
    "\n",
    "# Engines for pgen + generation\n",
    "pgen_model = GenerationProbabilityVDJ(generative_model, genomic_data)\n",
    "seq_gen_model = SequenceGenerationVDJ(generative_model, genomic_data)\n",
    "\n",
    "# Helper: AA Pgen (unconstrained by V/J)\n",
    "def pgen_aa(seq: str) -> float:\n",
    "    try:\n",
    "        return pgen_model.compute_aa_CDR3_pgen(seq)\n",
    "    except TypeError:\n",
    "        # Some OLGA versions accept (seq, v, j)\n",
    "        return pgen_model.compute_aa_CDR3_pgen(seq, None, None)\n",
    "\n",
    "# ---------- Generate sequences & compute Pgen ----------\n",
    "rows = []\n",
    "for _ in range(N):\n",
    "    # gen_rnd_prod_CDR3 returns: (ntseq, aaseq, V_index, J_index)\n",
    "    ntseq, aaseq, V_idx, J_idx = seq_gen_model.gen_rnd_prod_CDR3()\n",
    "    pgen = pgen_aa(aaseq)\n",
    "    rows.append(\n",
    "        {\n",
    "            \"ntseq\": ntseq,\n",
    "            \"aaseq\": aaseq,\n",
    "            \"V_index\": V_idx,\n",
    "            \"J_index\": J_idx,\n",
    "            \"pgen_aa\": pgen,\n",
    "        }\n",
    "    )\n",
    "\n",
    "df = pd.DataFrame(rows)\n",
    "\n",
    "# ---------- Save ----------\n",
    "os.makedirs(out_dir, exist_ok=True)\n",
    "df.to_csv(out_path, sep=\"\\t\", index=False)\n",
    "print(f\"Saved {len(df)} sequences to: {out_path}\")\n"
   ]
  },
  {
   "cell_type": "markdown",
   "id": "b65707ed",
   "metadata": {},
   "source": [
    "### Distribution of pgens"
   ]
  },
  {
   "cell_type": "code",
   "execution_count": 2,
   "id": "cee306ed",
   "metadata": {},
   "outputs": [
    {
     "data": {
      "image/png": "[encoded data removed]",
      "text/plain": [
       "<Figure size 700x500 with 1 Axes>"
      ]
     },
     "metadata": {},
     "output_type": "display_data"
    }
   ],
   "source": [
    "import os\n",
    "import pandas as pd\n",
    "import numpy as np\n",
    "import matplotlib.pyplot as plt\n",
    "\n",
    "# ---------- Paths ----------\n",
    "out_dir = \"/Users/ishaharris/Projects/TCR/TCR-Isha/data/High_Confidence_CMV_TCR\"\n",
    "out_path = os.path.join(out_dir, \"olga_random.tsv\")\n",
    "\n",
    "# ---------- Load data ----------\n",
    "df = pd.read_csv(out_path, sep=\"\\t\")\n",
    "\n",
    "# ---------- Convert to log10(Pgen) ----------\n",
    "log10_pgen = df[\"pgen_aa\"].apply(lambda x: np.log10(x) if x > 0 else -np.inf)\n",
    "\n",
    "# ---------- Plot histogram ----------\n",
    "plt.figure(figsize=(7,5))\n",
    "plt.hist(log10_pgen, bins=30, edgecolor=\"black\")\n",
    "\n",
    "plt.xlabel(\"log10(Pgen)\")\n",
    "plt.ylabel(\"Number of sequences\")\n",
    "plt.title(\"Distribution of log10(Pgen) for OLGA-generated random sequences\")\n",
    "\n",
    "plt.tight_layout()\n",
    "plt.show()\n"
   ]
  },
  {
   "cell_type": "code",
   "execution_count": null,
   "id": "2d0e734b",
   "metadata": {},
   "outputs": [],
   "source": []
  }
 ],
 "metadata": {
  "kernelspec": {
   "display_name": "Python (tcr_env)",
   "language": "python",
   "name": "tcr_env"
  },
  "language_info": {
   "codemirror_mode": {
    "name": "ipython",
    "version": 3
   },
   "file_extension": ".py",
   "mimetype": "text/x-python",
   "name": "python",
   "nbconvert_exporter": "python",
   "pygments_lexer": "ipython3",
   "version": "3.11.11"
  }
 },
 "nbformat": 4,
 "nbformat_minor": 5
}
